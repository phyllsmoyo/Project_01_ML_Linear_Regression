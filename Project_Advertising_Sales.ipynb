{
  "nbformat": 4,
  "nbformat_minor": 0,
  "metadata": {
    "colab": {
      "name": "Project_Advertising_Sales.ipynb",
      "provenance": [],
      "toc_visible": true,
      "authorship_tag": "ABX9TyNnGo2msHbyFfG3d7p7JCou",
      "include_colab_link": true
    },
    "kernelspec": {
      "name": "python3",
      "display_name": "Python 3"
    }
  },
  "cells": [
    {
      "cell_type": "markdown",
      "metadata": {
        "id": "view-in-github",
        "colab_type": "text"
      },
      "source": [
        "<a href=\"https://colab.research.google.com/github/phyllsmoyo/Project_01_ML_Linear_Regression/blob/branch_1/Project_Advertising_Sales.ipynb\" target=\"_parent\"><img src=\"https://colab.research.google.com/assets/colab-badge.svg\" alt=\"Open In Colab\"/></a>"
      ]
    },
    {
      "cell_type": "markdown",
      "metadata": {
        "id": "mDS8U7eaGVzw"
      },
      "source": [
        "#### **Import Libraries**"
      ]
    },
    {
      "cell_type": "code",
      "metadata": {
        "id": "FH7bTBO5TZ4z"
      },
      "source": [
        "#Import libraries\r\n",
        "import pandas as pd\r\n",
        "import numpy as np"
      ],
      "execution_count": 8,
      "outputs": []
    },
    {
      "cell_type": "markdown",
      "metadata": {
        "id": "8SGFs4lSGc3F"
      },
      "source": [
        "#### **Upload the Dataset**"
      ]
    },
    {
      "cell_type": "code",
      "metadata": {
        "id": "qjkzq2pLsGbu"
      },
      "source": [
        "#Import the Dataset into a pandas DataFrame\r\n",
        "#!wget 'https://github.com/phyllsmoyo/Projects/blob/branch_1/Advertising%20Budget%20and%20Sales.csv'\r\n"
      ],
      "execution_count": 9,
      "outputs": []
    },
    {
      "cell_type": "code",
      "metadata": {
        "id": "HkzPYtfRTNvl"
      },
      "source": [
        "df_data = pd.read_csv('/content/Advertising Budget and Sales.csv', index_col=0)"
      ],
      "execution_count": 10,
      "outputs": []
    },
    {
      "cell_type": "markdown",
      "metadata": {
        "id": "FWXlQSFZGnZi"
      },
      "source": [
        "#### **Data Preparation and Understanding**"
      ]
    },
    {
      "cell_type": "code",
      "metadata": {
        "colab": {
          "base_uri": "https://localhost:8080/",
          "height": 204
        },
        "id": "JX9qo2B4v7Gl",
        "outputId": "0491dca3-af50-488b-d2c3-52cb0a538a2d"
      },
      "source": [
        "#View the first 5 records\r\n",
        "df_data.head(5)"
      ],
      "execution_count": 11,
      "outputs": [
        {
          "output_type": "execute_result",
          "data": {
            "text/html": [
              "<div>\n",
              "<style scoped>\n",
              "    .dataframe tbody tr th:only-of-type {\n",
              "        vertical-align: middle;\n",
              "    }\n",
              "\n",
              "    .dataframe tbody tr th {\n",
              "        vertical-align: top;\n",
              "    }\n",
              "\n",
              "    .dataframe thead th {\n",
              "        text-align: right;\n",
              "    }\n",
              "</style>\n",
              "<table border=\"1\" class=\"dataframe\">\n",
              "  <thead>\n",
              "    <tr style=\"text-align: right;\">\n",
              "      <th></th>\n",
              "      <th>TV Ad Budget ($)</th>\n",
              "      <th>Radio Ad Budget ($)</th>\n",
              "      <th>Newspaper Ad Budget ($)</th>\n",
              "      <th>Sales ($)</th>\n",
              "    </tr>\n",
              "  </thead>\n",
              "  <tbody>\n",
              "    <tr>\n",
              "      <th>1</th>\n",
              "      <td>230.1</td>\n",
              "      <td>37.8</td>\n",
              "      <td>69.2</td>\n",
              "      <td>22.1</td>\n",
              "    </tr>\n",
              "    <tr>\n",
              "      <th>2</th>\n",
              "      <td>44.5</td>\n",
              "      <td>39.3</td>\n",
              "      <td>45.1</td>\n",
              "      <td>10.4</td>\n",
              "    </tr>\n",
              "    <tr>\n",
              "      <th>3</th>\n",
              "      <td>17.2</td>\n",
              "      <td>45.9</td>\n",
              "      <td>69.3</td>\n",
              "      <td>9.3</td>\n",
              "    </tr>\n",
              "    <tr>\n",
              "      <th>4</th>\n",
              "      <td>151.5</td>\n",
              "      <td>41.3</td>\n",
              "      <td>58.5</td>\n",
              "      <td>18.5</td>\n",
              "    </tr>\n",
              "    <tr>\n",
              "      <th>5</th>\n",
              "      <td>180.8</td>\n",
              "      <td>10.8</td>\n",
              "      <td>58.4</td>\n",
              "      <td>12.9</td>\n",
              "    </tr>\n",
              "  </tbody>\n",
              "</table>\n",
              "</div>"
            ],
            "text/plain": [
              "   TV Ad Budget ($)  Radio Ad Budget ($)  Newspaper Ad Budget ($)  Sales ($)\n",
              "1             230.1                 37.8                     69.2       22.1\n",
              "2              44.5                 39.3                     45.1       10.4\n",
              "3              17.2                 45.9                     69.3        9.3\n",
              "4             151.5                 41.3                     58.5       18.5\n",
              "5             180.8                 10.8                     58.4       12.9"
            ]
          },
          "metadata": {
            "tags": []
          },
          "execution_count": 11
        }
      ]
    },
    {
      "cell_type": "markdown",
      "metadata": {
        "id": "t96ygl6BwqGg"
      },
      "source": [
        "The dataset has threee features; TV Ads, Radio Ads and Newspaper Ads and the the target is Sales."
      ]
    },
    {
      "cell_type": "code",
      "metadata": {
        "colab": {
          "base_uri": "https://localhost:8080/"
        },
        "id": "I3UyqP9KwNyr",
        "outputId": "22da7a5f-1413-43ed-a8fe-b55c427d94ee"
      },
      "source": [
        "#View the size of the dataset\r\n",
        "df_data.shape"
      ],
      "execution_count": 12,
      "outputs": [
        {
          "output_type": "execute_result",
          "data": {
            "text/plain": [
              "(200, 4)"
            ]
          },
          "metadata": {
            "tags": []
          },
          "execution_count": 12
        }
      ]
    },
    {
      "cell_type": "code",
      "metadata": {
        "colab": {
          "base_uri": "https://localhost:8080/",
          "height": 359
        },
        "id": "JaIh_DlW6l0f",
        "outputId": "6860d4d8-1664-4850-b383-b2d067805d3d"
      },
      "source": [
        "#Understand the data by viewing some basic statistical details\r\n",
        "perc =[.20, .40, .60, .80]\r\n",
        "df_data.describe(percentiles=perc)"
      ],
      "execution_count": 13,
      "outputs": [
        {
          "output_type": "execute_result",
          "data": {
            "text/html": [
              "<div>\n",
              "<style scoped>\n",
              "    .dataframe tbody tr th:only-of-type {\n",
              "        vertical-align: middle;\n",
              "    }\n",
              "\n",
              "    .dataframe tbody tr th {\n",
              "        vertical-align: top;\n",
              "    }\n",
              "\n",
              "    .dataframe thead th {\n",
              "        text-align: right;\n",
              "    }\n",
              "</style>\n",
              "<table border=\"1\" class=\"dataframe\">\n",
              "  <thead>\n",
              "    <tr style=\"text-align: right;\">\n",
              "      <th></th>\n",
              "      <th>TV Ad Budget ($)</th>\n",
              "      <th>Radio Ad Budget ($)</th>\n",
              "      <th>Newspaper Ad Budget ($)</th>\n",
              "      <th>Sales ($)</th>\n",
              "    </tr>\n",
              "  </thead>\n",
              "  <tbody>\n",
              "    <tr>\n",
              "      <th>count</th>\n",
              "      <td>200.000000</td>\n",
              "      <td>200.000000</td>\n",
              "      <td>200.000000</td>\n",
              "      <td>200.000000</td>\n",
              "    </tr>\n",
              "    <tr>\n",
              "      <th>mean</th>\n",
              "      <td>147.042500</td>\n",
              "      <td>23.264000</td>\n",
              "      <td>30.554000</td>\n",
              "      <td>14.022500</td>\n",
              "    </tr>\n",
              "    <tr>\n",
              "      <th>std</th>\n",
              "      <td>85.854236</td>\n",
              "      <td>14.846809</td>\n",
              "      <td>21.778621</td>\n",
              "      <td>5.217457</td>\n",
              "    </tr>\n",
              "    <tr>\n",
              "      <th>min</th>\n",
              "      <td>0.700000</td>\n",
              "      <td>0.000000</td>\n",
              "      <td>0.300000</td>\n",
              "      <td>1.600000</td>\n",
              "    </tr>\n",
              "    <tr>\n",
              "      <th>20%</th>\n",
              "      <td>59.180000</td>\n",
              "      <td>7.680000</td>\n",
              "      <td>9.380000</td>\n",
              "      <td>9.700000</td>\n",
              "    </tr>\n",
              "    <tr>\n",
              "      <th>40%</th>\n",
              "      <td>119.000000</td>\n",
              "      <td>17.120000</td>\n",
              "      <td>21.320000</td>\n",
              "      <td>11.800000</td>\n",
              "    </tr>\n",
              "    <tr>\n",
              "      <th>50%</th>\n",
              "      <td>149.750000</td>\n",
              "      <td>22.900000</td>\n",
              "      <td>25.750000</td>\n",
              "      <td>12.900000</td>\n",
              "    </tr>\n",
              "    <tr>\n",
              "      <th>60%</th>\n",
              "      <td>186.060000</td>\n",
              "      <td>27.860000</td>\n",
              "      <td>32.700000</td>\n",
              "      <td>14.800000</td>\n",
              "    </tr>\n",
              "    <tr>\n",
              "      <th>80%</th>\n",
              "      <td>228.540000</td>\n",
              "      <td>38.920000</td>\n",
              "      <td>49.640000</td>\n",
              "      <td>18.920000</td>\n",
              "    </tr>\n",
              "    <tr>\n",
              "      <th>max</th>\n",
              "      <td>296.400000</td>\n",
              "      <td>49.600000</td>\n",
              "      <td>114.000000</td>\n",
              "      <td>27.000000</td>\n",
              "    </tr>\n",
              "  </tbody>\n",
              "</table>\n",
              "</div>"
            ],
            "text/plain": [
              "       TV Ad Budget ($)  ...   Sales ($)\n",
              "count        200.000000  ...  200.000000\n",
              "mean         147.042500  ...   14.022500\n",
              "std           85.854236  ...    5.217457\n",
              "min            0.700000  ...    1.600000\n",
              "20%           59.180000  ...    9.700000\n",
              "40%          119.000000  ...   11.800000\n",
              "50%          149.750000  ...   12.900000\n",
              "60%          186.060000  ...   14.800000\n",
              "80%          228.540000  ...   18.920000\n",
              "max          296.400000  ...   27.000000\n",
              "\n",
              "[10 rows x 4 columns]"
            ]
          },
          "metadata": {
            "tags": []
          },
          "execution_count": 13
        }
      ]
    },
    {
      "cell_type": "code",
      "metadata": {
        "colab": {
          "base_uri": "https://localhost:8080/"
        },
        "id": "gS8eZ-nb69XQ",
        "outputId": "45216a2b-459b-4e63-fd64-63b97d39d8c2"
      },
      "source": [
        "#Check if the dataset contains any null values.\r\n",
        "df_data.isnull().any()"
      ],
      "execution_count": 14,
      "outputs": [
        {
          "output_type": "execute_result",
          "data": {
            "text/plain": [
              "TV Ad Budget ($)           False\n",
              "Radio Ad Budget ($)        False\n",
              "Newspaper Ad Budget ($)    False\n",
              "Sales ($)                  False\n",
              "dtype: bool"
            ]
          },
          "metadata": {
            "tags": []
          },
          "execution_count": 14
        }
      ]
    },
    {
      "cell_type": "markdown",
      "metadata": {
        "id": "btux1ISzw8Wy"
      },
      "source": [
        "The Dataset does not have any null values"
      ]
    },
    {
      "cell_type": "code",
      "metadata": {
        "colab": {
          "base_uri": "https://localhost:8080/"
        },
        "id": "2FUqYkY8wiBj",
        "outputId": "b4116dc0-6119-452b-e71a-949958ec4ea2"
      },
      "source": [
        "#View the columns of the dataset\r\n",
        "df_data.columns"
      ],
      "execution_count": 15,
      "outputs": [
        {
          "output_type": "execute_result",
          "data": {
            "text/plain": [
              "Index(['TV Ad Budget ($)', 'Radio Ad Budget ($)', 'Newspaper Ad Budget ($)',\n",
              "       'Sales ($)'],\n",
              "      dtype='object')"
            ]
          },
          "metadata": {
            "tags": []
          },
          "execution_count": 15
        }
      ]
    },
    {
      "cell_type": "code",
      "metadata": {
        "colab": {
          "base_uri": "https://localhost:8080/"
        },
        "id": "xSre02FexQIS",
        "outputId": "2db80586-c8a3-48c9-f585-bf3fec2d31fe"
      },
      "source": [
        "#Create a feature object from the dataset\r\n",
        "X = df_data[['TV Ad Budget ($)', 'Radio Ad Budget ($)', 'Newspaper Ad Budget ($)']].values\r\n",
        "X"
      ],
      "execution_count": 41,
      "outputs": [
        {
          "output_type": "execute_result",
          "data": {
            "text/plain": [
              "array([[230.1,  37.8,  69.2],\n",
              "       [ 44.5,  39.3,  45.1],\n",
              "       [ 17.2,  45.9,  69.3],\n",
              "       [151.5,  41.3,  58.5],\n",
              "       [180.8,  10.8,  58.4],\n",
              "       [  8.7,  48.9,  75. ],\n",
              "       [ 57.5,  32.8,  23.5],\n",
              "       [120.2,  19.6,  11.6],\n",
              "       [  8.6,   2.1,   1. ],\n",
              "       [199.8,   2.6,  21.2],\n",
              "       [ 66.1,   5.8,  24.2],\n",
              "       [214.7,  24. ,   4. ],\n",
              "       [ 23.8,  35.1,  65.9],\n",
              "       [ 97.5,   7.6,   7.2],\n",
              "       [204.1,  32.9,  46. ],\n",
              "       [195.4,  47.7,  52.9],\n",
              "       [ 67.8,  36.6, 114. ],\n",
              "       [281.4,  39.6,  55.8],\n",
              "       [ 69.2,  20.5,  18.3],\n",
              "       [147.3,  23.9,  19.1],\n",
              "       [218.4,  27.7,  53.4],\n",
              "       [237.4,   5.1,  23.5],\n",
              "       [ 13.2,  15.9,  49.6],\n",
              "       [228.3,  16.9,  26.2],\n",
              "       [ 62.3,  12.6,  18.3],\n",
              "       [262.9,   3.5,  19.5],\n",
              "       [142.9,  29.3,  12.6],\n",
              "       [240.1,  16.7,  22.9],\n",
              "       [248.8,  27.1,  22.9],\n",
              "       [ 70.6,  16. ,  40.8],\n",
              "       [292.9,  28.3,  43.2],\n",
              "       [112.9,  17.4,  38.6],\n",
              "       [ 97.2,   1.5,  30. ],\n",
              "       [265.6,  20. ,   0.3],\n",
              "       [ 95.7,   1.4,   7.4],\n",
              "       [290.7,   4.1,   8.5],\n",
              "       [266.9,  43.8,   5. ],\n",
              "       [ 74.7,  49.4,  45.7],\n",
              "       [ 43.1,  26.7,  35.1],\n",
              "       [228. ,  37.7,  32. ],\n",
              "       [202.5,  22.3,  31.6],\n",
              "       [177. ,  33.4,  38.7],\n",
              "       [293.6,  27.7,   1.8],\n",
              "       [206.9,   8.4,  26.4],\n",
              "       [ 25.1,  25.7,  43.3],\n",
              "       [175.1,  22.5,  31.5],\n",
              "       [ 89.7,   9.9,  35.7],\n",
              "       [239.9,  41.5,  18.5],\n",
              "       [227.2,  15.8,  49.9],\n",
              "       [ 66.9,  11.7,  36.8],\n",
              "       [199.8,   3.1,  34.6],\n",
              "       [100.4,   9.6,   3.6],\n",
              "       [216.4,  41.7,  39.6],\n",
              "       [182.6,  46.2,  58.7],\n",
              "       [262.7,  28.8,  15.9],\n",
              "       [198.9,  49.4,  60. ],\n",
              "       [  7.3,  28.1,  41.4],\n",
              "       [136.2,  19.2,  16.6],\n",
              "       [210.8,  49.6,  37.7],\n",
              "       [210.7,  29.5,   9.3],\n",
              "       [ 53.5,   2. ,  21.4],\n",
              "       [261.3,  42.7,  54.7],\n",
              "       [239.3,  15.5,  27.3],\n",
              "       [102.7,  29.6,   8.4],\n",
              "       [131.1,  42.8,  28.9],\n",
              "       [ 69. ,   9.3,   0.9],\n",
              "       [ 31.5,  24.6,   2.2],\n",
              "       [139.3,  14.5,  10.2],\n",
              "       [237.4,  27.5,  11. ],\n",
              "       [216.8,  43.9,  27.2],\n",
              "       [199.1,  30.6,  38.7],\n",
              "       [109.8,  14.3,  31.7],\n",
              "       [ 26.8,  33. ,  19.3],\n",
              "       [129.4,   5.7,  31.3],\n",
              "       [213.4,  24.6,  13.1],\n",
              "       [ 16.9,  43.7,  89.4],\n",
              "       [ 27.5,   1.6,  20.7],\n",
              "       [120.5,  28.5,  14.2],\n",
              "       [  5.4,  29.9,   9.4],\n",
              "       [116. ,   7.7,  23.1],\n",
              "       [ 76.4,  26.7,  22.3],\n",
              "       [239.8,   4.1,  36.9],\n",
              "       [ 75.3,  20.3,  32.5],\n",
              "       [ 68.4,  44.5,  35.6],\n",
              "       [213.5,  43. ,  33.8],\n",
              "       [193.2,  18.4,  65.7],\n",
              "       [ 76.3,  27.5,  16. ],\n",
              "       [110.7,  40.6,  63.2],\n",
              "       [ 88.3,  25.5,  73.4],\n",
              "       [109.8,  47.8,  51.4],\n",
              "       [134.3,   4.9,   9.3],\n",
              "       [ 28.6,   1.5,  33. ],\n",
              "       [217.7,  33.5,  59. ],\n",
              "       [250.9,  36.5,  72.3],\n",
              "       [107.4,  14. ,  10.9],\n",
              "       [163.3,  31.6,  52.9],\n",
              "       [197.6,   3.5,   5.9],\n",
              "       [184.9,  21. ,  22. ],\n",
              "       [289.7,  42.3,  51.2],\n",
              "       [135.2,  41.7,  45.9],\n",
              "       [222.4,   4.3,  49.8],\n",
              "       [296.4,  36.3, 100.9],\n",
              "       [280.2,  10.1,  21.4],\n",
              "       [187.9,  17.2,  17.9],\n",
              "       [238.2,  34.3,   5.3],\n",
              "       [137.9,  46.4,  59. ],\n",
              "       [ 25. ,  11. ,  29.7],\n",
              "       [ 90.4,   0.3,  23.2],\n",
              "       [ 13.1,   0.4,  25.6],\n",
              "       [255.4,  26.9,   5.5],\n",
              "       [225.8,   8.2,  56.5],\n",
              "       [241.7,  38. ,  23.2],\n",
              "       [175.7,  15.4,   2.4],\n",
              "       [209.6,  20.6,  10.7],\n",
              "       [ 78.2,  46.8,  34.5],\n",
              "       [ 75.1,  35. ,  52.7],\n",
              "       [139.2,  14.3,  25.6],\n",
              "       [ 76.4,   0.8,  14.8],\n",
              "       [125.7,  36.9,  79.2],\n",
              "       [ 19.4,  16. ,  22.3],\n",
              "       [141.3,  26.8,  46.2],\n",
              "       [ 18.8,  21.7,  50.4],\n",
              "       [224. ,   2.4,  15.6],\n",
              "       [123.1,  34.6,  12.4],\n",
              "       [229.5,  32.3,  74.2],\n",
              "       [ 87.2,  11.8,  25.9],\n",
              "       [  7.8,  38.9,  50.6],\n",
              "       [ 80.2,   0. ,   9.2],\n",
              "       [220.3,  49. ,   3.2],\n",
              "       [ 59.6,  12. ,  43.1],\n",
              "       [  0.7,  39.6,   8.7],\n",
              "       [265.2,   2.9,  43. ],\n",
              "       [  8.4,  27.2,   2.1],\n",
              "       [219.8,  33.5,  45.1],\n",
              "       [ 36.9,  38.6,  65.6],\n",
              "       [ 48.3,  47. ,   8.5],\n",
              "       [ 25.6,  39. ,   9.3],\n",
              "       [273.7,  28.9,  59.7],\n",
              "       [ 43. ,  25.9,  20.5],\n",
              "       [184.9,  43.9,   1.7],\n",
              "       [ 73.4,  17. ,  12.9],\n",
              "       [193.7,  35.4,  75.6],\n",
              "       [220.5,  33.2,  37.9],\n",
              "       [104.6,   5.7,  34.4],\n",
              "       [ 96.2,  14.8,  38.9],\n",
              "       [140.3,   1.9,   9. ],\n",
              "       [240.1,   7.3,   8.7],\n",
              "       [243.2,  49. ,  44.3],\n",
              "       [ 38. ,  40.3,  11.9],\n",
              "       [ 44.7,  25.8,  20.6],\n",
              "       [280.7,  13.9,  37. ],\n",
              "       [121. ,   8.4,  48.7],\n",
              "       [197.6,  23.3,  14.2],\n",
              "       [171.3,  39.7,  37.7],\n",
              "       [187.8,  21.1,   9.5],\n",
              "       [  4.1,  11.6,   5.7],\n",
              "       [ 93.9,  43.5,  50.5],\n",
              "       [149.8,   1.3,  24.3],\n",
              "       [ 11.7,  36.9,  45.2],\n",
              "       [131.7,  18.4,  34.6],\n",
              "       [172.5,  18.1,  30.7],\n",
              "       [ 85.7,  35.8,  49.3],\n",
              "       [188.4,  18.1,  25.6],\n",
              "       [163.5,  36.8,   7.4],\n",
              "       [117.2,  14.7,   5.4],\n",
              "       [234.5,   3.4,  84.8],\n",
              "       [ 17.9,  37.6,  21.6],\n",
              "       [206.8,   5.2,  19.4],\n",
              "       [215.4,  23.6,  57.6],\n",
              "       [284.3,  10.6,   6.4],\n",
              "       [ 50. ,  11.6,  18.4],\n",
              "       [164.5,  20.9,  47.4],\n",
              "       [ 19.6,  20.1,  17. ],\n",
              "       [168.4,   7.1,  12.8],\n",
              "       [222.4,   3.4,  13.1],\n",
              "       [276.9,  48.9,  41.8],\n",
              "       [248.4,  30.2,  20.3],\n",
              "       [170.2,   7.8,  35.2],\n",
              "       [276.7,   2.3,  23.7],\n",
              "       [165.6,  10. ,  17.6],\n",
              "       [156.6,   2.6,   8.3],\n",
              "       [218.5,   5.4,  27.4],\n",
              "       [ 56.2,   5.7,  29.7],\n",
              "       [287.6,  43. ,  71.8],\n",
              "       [253.8,  21.3,  30. ],\n",
              "       [205. ,  45.1,  19.6],\n",
              "       [139.5,   2.1,  26.6],\n",
              "       [191.1,  28.7,  18.2],\n",
              "       [286. ,  13.9,   3.7],\n",
              "       [ 18.7,  12.1,  23.4],\n",
              "       [ 39.5,  41.1,   5.8],\n",
              "       [ 75.5,  10.8,   6. ],\n",
              "       [ 17.2,   4.1,  31.6],\n",
              "       [166.8,  42. ,   3.6],\n",
              "       [149.7,  35.6,   6. ],\n",
              "       [ 38.2,   3.7,  13.8],\n",
              "       [ 94.2,   4.9,   8.1],\n",
              "       [177. ,   9.3,   6.4],\n",
              "       [283.6,  42. ,  66.2],\n",
              "       [232.1,   8.6,   8.7]])"
            ]
          },
          "metadata": {
            "tags": []
          },
          "execution_count": 41
        }
      ]
    },
    {
      "cell_type": "code",
      "metadata": {
        "colab": {
          "base_uri": "https://localhost:8080/"
        },
        "id": "PVLNN2-_zUAE",
        "outputId": "7d9f23f7-68a0-487b-813f-e74aa5ee937d"
      },
      "source": [
        "y = df_data[['Sales ($)']].values\r\n",
        "y"
      ],
      "execution_count": 42,
      "outputs": [
        {
          "output_type": "execute_result",
          "data": {
            "text/plain": [
              "array([[22.1],\n",
              "       [10.4],\n",
              "       [ 9.3],\n",
              "       [18.5],\n",
              "       [12.9],\n",
              "       [ 7.2],\n",
              "       [11.8],\n",
              "       [13.2],\n",
              "       [ 4.8],\n",
              "       [10.6],\n",
              "       [ 8.6],\n",
              "       [17.4],\n",
              "       [ 9.2],\n",
              "       [ 9.7],\n",
              "       [19. ],\n",
              "       [22.4],\n",
              "       [12.5],\n",
              "       [24.4],\n",
              "       [11.3],\n",
              "       [14.6],\n",
              "       [18. ],\n",
              "       [12.5],\n",
              "       [ 5.6],\n",
              "       [15.5],\n",
              "       [ 9.7],\n",
              "       [12. ],\n",
              "       [15. ],\n",
              "       [15.9],\n",
              "       [18.9],\n",
              "       [10.5],\n",
              "       [21.4],\n",
              "       [11.9],\n",
              "       [ 9.6],\n",
              "       [17.4],\n",
              "       [ 9.5],\n",
              "       [12.8],\n",
              "       [25.4],\n",
              "       [14.7],\n",
              "       [10.1],\n",
              "       [21.5],\n",
              "       [16.6],\n",
              "       [17.1],\n",
              "       [20.7],\n",
              "       [12.9],\n",
              "       [ 8.5],\n",
              "       [14.9],\n",
              "       [10.6],\n",
              "       [23.2],\n",
              "       [14.8],\n",
              "       [ 9.7],\n",
              "       [11.4],\n",
              "       [10.7],\n",
              "       [22.6],\n",
              "       [21.2],\n",
              "       [20.2],\n",
              "       [23.7],\n",
              "       [ 5.5],\n",
              "       [13.2],\n",
              "       [23.8],\n",
              "       [18.4],\n",
              "       [ 8.1],\n",
              "       [24.2],\n",
              "       [15.7],\n",
              "       [14. ],\n",
              "       [18. ],\n",
              "       [ 9.3],\n",
              "       [ 9.5],\n",
              "       [13.4],\n",
              "       [18.9],\n",
              "       [22.3],\n",
              "       [18.3],\n",
              "       [12.4],\n",
              "       [ 8.8],\n",
              "       [11. ],\n",
              "       [17. ],\n",
              "       [ 8.7],\n",
              "       [ 6.9],\n",
              "       [14.2],\n",
              "       [ 5.3],\n",
              "       [11. ],\n",
              "       [11.8],\n",
              "       [12.3],\n",
              "       [11.3],\n",
              "       [13.6],\n",
              "       [21.7],\n",
              "       [15.2],\n",
              "       [12. ],\n",
              "       [16. ],\n",
              "       [12.9],\n",
              "       [16.7],\n",
              "       [11.2],\n",
              "       [ 7.3],\n",
              "       [19.4],\n",
              "       [22.2],\n",
              "       [11.5],\n",
              "       [16.9],\n",
              "       [11.7],\n",
              "       [15.5],\n",
              "       [25.4],\n",
              "       [17.2],\n",
              "       [11.7],\n",
              "       [23.8],\n",
              "       [14.8],\n",
              "       [14.7],\n",
              "       [20.7],\n",
              "       [19.2],\n",
              "       [ 7.2],\n",
              "       [ 8.7],\n",
              "       [ 5.3],\n",
              "       [19.8],\n",
              "       [13.4],\n",
              "       [21.8],\n",
              "       [14.1],\n",
              "       [15.9],\n",
              "       [14.6],\n",
              "       [12.6],\n",
              "       [12.2],\n",
              "       [ 9.4],\n",
              "       [15.9],\n",
              "       [ 6.6],\n",
              "       [15.5],\n",
              "       [ 7. ],\n",
              "       [11.6],\n",
              "       [15.2],\n",
              "       [19.7],\n",
              "       [10.6],\n",
              "       [ 6.6],\n",
              "       [ 8.8],\n",
              "       [24.7],\n",
              "       [ 9.7],\n",
              "       [ 1.6],\n",
              "       [12.7],\n",
              "       [ 5.7],\n",
              "       [19.6],\n",
              "       [10.8],\n",
              "       [11.6],\n",
              "       [ 9.5],\n",
              "       [20.8],\n",
              "       [ 9.6],\n",
              "       [20.7],\n",
              "       [10.9],\n",
              "       [19.2],\n",
              "       [20.1],\n",
              "       [10.4],\n",
              "       [11.4],\n",
              "       [10.3],\n",
              "       [13.2],\n",
              "       [25.4],\n",
              "       [10.9],\n",
              "       [10.1],\n",
              "       [16.1],\n",
              "       [11.6],\n",
              "       [16.6],\n",
              "       [19. ],\n",
              "       [15.6],\n",
              "       [ 3.2],\n",
              "       [15.3],\n",
              "       [10.1],\n",
              "       [ 7.3],\n",
              "       [12.9],\n",
              "       [14.4],\n",
              "       [13.3],\n",
              "       [14.9],\n",
              "       [18. ],\n",
              "       [11.9],\n",
              "       [11.9],\n",
              "       [ 8. ],\n",
              "       [12.2],\n",
              "       [17.1],\n",
              "       [15. ],\n",
              "       [ 8.4],\n",
              "       [14.5],\n",
              "       [ 7.6],\n",
              "       [11.7],\n",
              "       [11.5],\n",
              "       [27. ],\n",
              "       [20.2],\n",
              "       [11.7],\n",
              "       [11.8],\n",
              "       [12.6],\n",
              "       [10.5],\n",
              "       [12.2],\n",
              "       [ 8.7],\n",
              "       [26.2],\n",
              "       [17.6],\n",
              "       [22.6],\n",
              "       [10.3],\n",
              "       [17.3],\n",
              "       [15.9],\n",
              "       [ 6.7],\n",
              "       [10.8],\n",
              "       [ 9.9],\n",
              "       [ 5.9],\n",
              "       [19.6],\n",
              "       [17.3],\n",
              "       [ 7.6],\n",
              "       [ 9.7],\n",
              "       [12.8],\n",
              "       [25.5],\n",
              "       [13.4]])"
            ]
          },
          "metadata": {
            "tags": []
          },
          "execution_count": 42
        }
      ]
    },
    {
      "cell_type": "code",
      "metadata": {
        "colab": {
          "base_uri": "https://localhost:8080/"
        },
        "id": "Z3jFyfPuzcX3",
        "outputId": "a08d6b38-c1b1-4a8e-c916-90f1bbe88a83"
      },
      "source": [
        "print(X.shape, y.shape, sep='\\n')"
      ],
      "execution_count": 43,
      "outputs": [
        {
          "output_type": "stream",
          "text": [
            "(200, 3)\n",
            "(200, 1)\n"
          ],
          "name": "stdout"
        }
      ]
    },
    {
      "cell_type": "code",
      "metadata": {
        "id": "psNeElExzkJU"
      },
      "source": [
        "#Split Test and Training sets\r\n",
        "from sklearn.model_selection import train_test_split\r\n",
        "\r\n",
        "X_train, X_test, y_train, y_test = train_test_split(X, y, test_size=0.25, random_state=4)"
      ],
      "execution_count": 44,
      "outputs": []
    },
    {
      "cell_type": "markdown",
      "metadata": {
        "id": "ROYQ_9Hn08Zy"
      },
      "source": [
        "By default the train_test_split will split 75% training and 25% test data."
      ]
    },
    {
      "cell_type": "code",
      "metadata": {
        "colab": {
          "base_uri": "https://localhost:8080/"
        },
        "id": "i0uFFcEn0erN",
        "outputId": "1ae36084-2aa9-43f6-cfc2-a5944a794274"
      },
      "source": [
        "#view the shape of the data\r\n",
        "print(X_train.shape, X_test.shape, y_train.shape, y_test.shape, sep='\\n')"
      ],
      "execution_count": 45,
      "outputs": [
        {
          "output_type": "stream",
          "text": [
            "(150, 3)\n",
            "(50, 3)\n",
            "(150, 1)\n",
            "(50, 1)\n"
          ],
          "name": "stdout"
        }
      ]
    },
    {
      "cell_type": "markdown",
      "metadata": {
        "id": "TETxGN6VG0GJ"
      },
      "source": [
        "#### **Modeling Training**"
      ]
    },
    {
      "cell_type": "markdown",
      "metadata": {
        "id": "3bGPjNixkVYm"
      },
      "source": [
        "**Linear Regression**"
      ]
    },
    {
      "cell_type": "code",
      "metadata": {
        "id": "DfcryBa-1Ru3"
      },
      "source": [
        "#Import the Linear Regression Model\r\n",
        "from sklearn.linear_model import LinearRegression"
      ],
      "execution_count": 21,
      "outputs": []
    },
    {
      "cell_type": "code",
      "metadata": {
        "id": "_9SRmyHK25ME"
      },
      "source": [
        "#Initiate the instance of the Linear Regression Model\r\n",
        "normalize = False\r\n",
        "linreg = LinearRegression(normalize=normalize)"
      ],
      "execution_count": 22,
      "outputs": []
    },
    {
      "cell_type": "code",
      "metadata": {
        "colab": {
          "base_uri": "https://localhost:8080/"
        },
        "id": "ii49_trk3Xeo",
        "outputId": "a193753c-0faa-42bc-c660-005e479146f0"
      },
      "source": [
        "#Train the Model\r\n",
        "linreg.fit(X_train, y_train)"
      ],
      "execution_count": 46,
      "outputs": [
        {
          "output_type": "execute_result",
          "data": {
            "text/plain": [
              "LinearRegression(copy_X=True, fit_intercept=True, n_jobs=None, normalize=False)"
            ]
          },
          "metadata": {
            "tags": []
          },
          "execution_count": 46
        }
      ]
    },
    {
      "cell_type": "code",
      "metadata": {
        "colab": {
          "base_uri": "https://localhost:8080/"
        },
        "id": "HtNYSOv83nkY",
        "outputId": "fa86161f-d511-4299-b81f-f003932896c9"
      },
      "source": [
        "#Print the intercept and the coefficients\r\n",
        "print('The Intercept is: {}'.format(linreg.intercept_))\r\n",
        "print('The Coefficients are: {}'.format(linreg.coef_))"
      ],
      "execution_count": 47,
      "outputs": [
        {
          "output_type": "stream",
          "text": [
            "The Intercept is: [3.09401086]\n",
            "The Coefficients are: [[0.04585077 0.17764264 0.00247669]]\n"
          ],
          "name": "stdout"
        }
      ]
    },
    {
      "cell_type": "code",
      "metadata": {
        "colab": {
          "base_uri": "https://localhost:8080/"
        },
        "id": "viVUK56A4hF3",
        "outputId": "2dda4a5c-806a-4754-d6cd-8982a039fca0"
      },
      "source": [
        "#Prediction\r\n",
        "y_pred = linreg.predict(X_test)\r\n",
        "y_pred[0:5]"
      ],
      "execution_count": 48,
      "outputs": [
        {
          "output_type": "execute_result",
          "data": {
            "text/plain": [
              "array([[17.21150199],\n",
              "       [16.81441379],\n",
              "       [21.90735108],\n",
              "       [24.58034087],\n",
              "       [12.22742501]])"
            ]
          },
          "metadata": {
            "tags": []
          },
          "execution_count": 48
        }
      ]
    },
    {
      "cell_type": "code",
      "metadata": {
        "colab": {
          "base_uri": "https://localhost:8080/",
          "height": 295
        },
        "id": "opG36DihU7Xf",
        "outputId": "c254013d-1367-403b-f0c7-6cf13af8b60c"
      },
      "source": [
        "import matplotlib.pyplot as plt\r\n",
        "import numpy as np\r\n",
        "# Plot predicted vs actual\r\n",
        "plt.scatter(y_test, y_pred)\r\n",
        "plt.xlabel('Actual Labels')\r\n",
        "plt.ylabel('Predicted Labels')\r\n",
        "plt.title('Advertising Sales Data')\r\n",
        "# overlay the regression line\r\n",
        "#z = np.polyfit(y_test, y_pred, 1)\r\n",
        "#p = np.poly1d(z)\r\n",
        "#plt.plot(y_test,p(y_test), color='magenta')\r\n",
        "plt.show()"
      ],
      "execution_count": 53,
      "outputs": [
        {
          "output_type": "display_data",
          "data": {
            "image/png": "[encoded data removed]",
            "text/plain": [
              "<Figure size 432x288 with 1 Axes>"
            ]
          },
          "metadata": {
            "tags": [],
            "needs_background": "light"
          }
        }
      ]
    },
    {
      "cell_type": "code",
      "metadata": {
        "colab": {
          "base_uri": "https://localhost:8080/"
        },
        "id": "SsQQN_ZZV3QX",
        "outputId": "35615bc0-98fe-479c-a8d2-3d9d56c5217d"
      },
      "source": [
        ""
      ],
      "execution_count": 52,
      "outputs": [
        {
          "output_type": "execute_result",
          "data": {
            "text/plain": [
              "array([17.4])"
            ]
          },
          "metadata": {
            "tags": []
          },
          "execution_count": 52
        }
      ]
    },
    {
      "cell_type": "markdown",
      "metadata": {
        "id": "ZW_30pemG_AW"
      },
      "source": [
        "#### **Model Evaluation**"
      ]
    },
    {
      "cell_type": "code",
      "metadata": {
        "id": "zvzs0-Ik5IRT"
      },
      "source": [
        "#Test the Model's accuracy\r\n",
        "#import the library\r\n",
        "from sklearn import metrics"
      ],
      "execution_count": 26,
      "outputs": []
    },
    {
      "cell_type": "code",
      "metadata": {
        "id": "fyW3MPx85YD6"
      },
      "source": [
        "#Calculate the Metrics\r\n",
        "#Mean Squared Error\r\n",
        "MSE = metrics.mean_squared_error(y_test, y_pred)\r\n",
        "#Root Mean Squared Error\r\n",
        "RMSE = metrics.mean_squared_error(y_test, y_pred, squared=False)\r\n",
        "#Mean Absolute Error\r\n",
        "MAE = metrics.mean_absolute_error(y_test, y_pred)\r\n",
        "#R-Squared\r\n",
        "R2 = metrics.r2_score(y_test, y_pred)"
      ],
      "execution_count": 27,
      "outputs": []
    },
    {
      "cell_type": "code",
      "metadata": {
        "colab": {
          "base_uri": "https://localhost:8080/"
        },
        "id": "tWB0RLca6WQu",
        "outputId": "7c2b6b0d-637e-49b3-d132-20966d067cf6"
      },
      "source": [
        "print('Mean Squared Error: {}'.format(MSE))\r\n",
        "print('Root Mean Squared Error: {}'.format(RMSE))\r\n",
        "print('Mean Absolute Error: {}'.format(MAE))\r\n",
        "print('R Squared: {}'.format(R2))"
      ],
      "execution_count": 29,
      "outputs": [
        {
          "output_type": "stream",
          "text": [
            "Mean Squared Error: 2.0906416277008044\n",
            "Root Mean Squared Error: 1.4459051240315888\n",
            "Mean Absolute Error: 1.1532385280495925\n",
            "R Squared: 0.9157191830180074\n"
          ],
          "name": "stdout"
        }
      ]
    },
    {
      "cell_type": "markdown",
      "metadata": {
        "id": "WfW3HVFtEl1c"
      },
      "source": [
        "**R-squared** is a statistical measure of how close the data are to the fitted regression line. It is also known as the coefficient of determination, or the coefficient of multiple determination for multiple regression.\r\n",
        "\r\n",
        "Based on R squared this means that our model is **91.572%** accurate.\r\n",
        "\r\n",
        "Also the other metrics are small meaning that the model is doing well in predicting using unseen data."
      ]
    },
    {
      "cell_type": "markdown",
      "metadata": {
        "id": "e3A-vJ6UUVF1"
      },
      "source": [
        "### **Experiment with other Algorithms**"
      ]
    },
    {
      "cell_type": "markdown",
      "metadata": {
        "id": "HJee227NUYBy"
      },
      "source": [
        "#### **Linear algorithms: Lasso**"
      ]
    },
    {
      "cell_type": "code",
      "metadata": {
        "colab": {
          "base_uri": "https://localhost:8080/",
          "height": 414
        },
        "id": "WTgtTwOzUPTJ",
        "outputId": "31849607-aa82-4ad4-8e51-a8e1df2686d9"
      },
      "source": [
        "from sklearn.linear_model import Lasso\r\n",
        "\r\n",
        "# Fit a lasso model on the training set\r\n",
        "model = Lasso()\r\n",
        "model.fit(X_train, y_train)\r\n",
        "print (model, \"\\n\")\r\n",
        "\r\n",
        "# Evaluate the model using the test data\r\n",
        "from sklearn.metrics import mean_squared_error, r2_score\r\n",
        "y_pred = model.predict(X_test)\r\n",
        "mse = mean_squared_error(y_test, y_pred)\r\n",
        "print(\"MSE:\", mse)\r\n",
        "rmse = np.sqrt(mse)\r\n",
        "print(\"RMSE:\", rmse)\r\n",
        "r2 = r2_score(y_test, y_pred)\r\n",
        "print(\"R2:\", r2)\r\n",
        "\r\n",
        "import matplotlib.pyplot as plt\r\n",
        "import numpy as np\r\n",
        "# Plot predicted vs actual\r\n",
        "plt.scatter(y_test, y_pred)\r\n",
        "plt.xlabel('Actual Labels')\r\n",
        "plt.ylabel('Predicted Labels')\r\n",
        "plt.title('Advertising Sales Data')\r\n",
        "# overlay the regression line\r\n",
        "#z = np.polyfit(y_test, y_pred, 1)\r\n",
        "#p = np.poly1d(z)\r\n",
        "#plt.plot(y_test,p(y_test), color='magenta')\r\n",
        "plt.show()"
      ],
      "execution_count": 56,
      "outputs": [
        {
          "output_type": "stream",
          "text": [
            "Lasso(alpha=1.0, copy_X=True, fit_intercept=True, max_iter=1000,\n",
            "      normalize=False, positive=False, precompute=False, random_state=None,\n",
            "      selection='cyclic', tol=0.0001, warm_start=False) \n",
            "\n",
            "MSE: 2.1545880277481486\n",
            "RMSE: 1.4678515005776807\n",
            "R2: 0.9131412879031117\n"
          ],
          "name": "stdout"
        },
        {
          "output_type": "display_data",
          "data": {
            "image/png": "[encoded data removed]",
            "text/plain": [
              "<Figure size 432x288 with 1 Axes>"
            ]
          },
          "metadata": {
            "tags": [],
            "needs_background": "light"
          }
        }
      ]
    },
    {
      "cell_type": "markdown",
      "metadata": {
        "id": "UfsJNZA1YdV4"
      },
      "source": [
        "#### **Decision Tree Algorithm**"
      ]
    },
    {
      "cell_type": "code",
      "metadata": {
        "colab": {
          "base_uri": "https://localhost:8080/"
        },
        "id": "tpSlyhZEYOy_",
        "outputId": "261a89bb-ec5a-4ce8-a504-1d5a16aaa81e"
      },
      "source": [
        "from sklearn.tree import DecisionTreeRegressor\r\n",
        "from sklearn.tree import export_text\r\n",
        "\r\n",
        "# Train the model\r\n",
        "model = DecisionTreeRegressor()\r\n",
        "model.fit(X_train, y_train)\r\n",
        "print (model, \"\\n\")\r\n",
        "\r\n",
        "# Visualize the model tree\r\n",
        "tree = export_text(model)\r\n",
        "print(tree)"
      ],
      "execution_count": 57,
      "outputs": [
        {
          "output_type": "stream",
          "text": [
            "DecisionTreeRegressor(ccp_alpha=0.0, criterion='mse', max_depth=None,\n",
            "                      max_features=None, max_leaf_nodes=None,\n",
            "                      min_impurity_decrease=0.0, min_impurity_split=None,\n",
            "                      min_samples_leaf=1, min_samples_split=2,\n",
            "                      min_weight_fraction_leaf=0.0, presort='deprecated',\n",
            "                      random_state=None, splitter='best') \n",
            "\n",
            "|--- feature_0 <= 123.35\n",
            "|   |--- feature_0 <= 30.05\n",
            "|   |   |--- feature_0 <= 15.05\n",
            "|   |   |   |--- feature_0 <= 4.75\n",
            "|   |   |   |   |--- feature_0 <= 2.40\n",
            "|   |   |   |   |   |--- value: [1.60]\n",
            "|   |   |   |   |--- feature_0 >  2.40\n",
            "|   |   |   |   |   |--- value: [3.20]\n",
            "|   |   |   |--- feature_0 >  4.75\n",
            "|   |   |   |   |--- feature_2 <= 50.10\n",
            "|   |   |   |   |   |--- feature_2 <= 1.55\n",
            "|   |   |   |   |   |   |--- value: [4.80]\n",
            "|   |   |   |   |   |--- feature_2 >  1.55\n",
            "|   |   |   |   |   |   |--- feature_2 <= 5.75\n",
            "|   |   |   |   |   |   |   |--- value: [5.70]\n",
            "|   |   |   |   |   |   |--- feature_2 >  5.75\n",
            "|   |   |   |   |   |   |   |--- feature_2 <= 33.50\n",
            "|   |   |   |   |   |   |   |   |--- value: [5.30]\n",
            "|   |   |   |   |   |   |   |--- feature_2 >  33.50\n",
            "|   |   |   |   |   |   |   |   |--- feature_2 <= 45.50\n",
            "|   |   |   |   |   |   |   |   |   |--- value: [5.50]\n",
            "|   |   |   |   |   |   |   |   |--- feature_2 >  45.50\n",
            "|   |   |   |   |   |   |   |   |   |--- value: [5.60]\n",
            "|   |   |   |   |--- feature_2 >  50.10\n",
            "|   |   |   |   |   |--- feature_1 <= 43.90\n",
            "|   |   |   |   |   |   |--- value: [6.60]\n",
            "|   |   |   |   |   |--- feature_1 >  43.90\n",
            "|   |   |   |   |   |   |--- value: [7.20]\n",
            "|   |   |--- feature_0 >  15.05\n",
            "|   |   |   |--- feature_1 <= 23.70\n",
            "|   |   |   |   |--- feature_0 <= 18.00\n",
            "|   |   |   |   |   |--- value: [5.90]\n",
            "|   |   |   |   |--- feature_0 >  18.00\n",
            "|   |   |   |   |   |--- feature_2 <= 18.85\n",
            "|   |   |   |   |   |   |--- value: [7.60]\n",
            "|   |   |   |   |   |--- feature_2 >  18.85\n",
            "|   |   |   |   |   |   |--- feature_2 <= 25.20\n",
            "|   |   |   |   |   |   |   |--- value: [6.90]\n",
            "|   |   |   |   |   |   |--- feature_2 >  25.20\n",
            "|   |   |   |   |   |   |   |--- feature_1 <= 16.35\n",
            "|   |   |   |   |   |   |   |   |--- feature_1 <= 6.25\n",
            "|   |   |   |   |   |   |   |   |   |--- value: [7.30]\n",
            "|   |   |   |   |   |   |   |   |--- feature_1 >  6.25\n",
            "|   |   |   |   |   |   |   |   |   |--- value: [7.20]\n",
            "|   |   |   |   |   |   |   |--- feature_1 >  16.35\n",
            "|   |   |   |   |   |   |   |   |--- value: [7.00]\n",
            "|   |   |   |--- feature_1 >  23.70\n",
            "|   |   |   |   |--- feature_1 <= 38.30\n",
            "|   |   |   |   |   |--- feature_1 <= 35.30\n",
            "|   |   |   |   |   |   |--- feature_1 <= 29.35\n",
            "|   |   |   |   |   |   |   |--- value: [8.50]\n",
            "|   |   |   |   |   |   |--- feature_1 >  29.35\n",
            "|   |   |   |   |   |   |   |--- value: [8.80]\n",
            "|   |   |   |   |   |--- feature_1 >  35.30\n",
            "|   |   |   |   |   |   |--- value: [8.00]\n",
            "|   |   |   |   |--- feature_1 >  38.30\n",
            "|   |   |   |   |   |--- feature_0 <= 17.05\n",
            "|   |   |   |   |   |   |--- value: [8.70]\n",
            "|   |   |   |   |   |--- feature_0 >  17.05\n",
            "|   |   |   |   |   |   |--- feature_0 <= 21.40\n",
            "|   |   |   |   |   |   |   |--- value: [9.30]\n",
            "|   |   |   |   |   |   |--- feature_0 >  21.40\n",
            "|   |   |   |   |   |   |   |--- value: [9.50]\n",
            "|   |--- feature_0 >  30.05\n",
            "|   |   |--- feature_1 <= 27.10\n",
            "|   |   |   |--- feature_0 <= 106.00\n",
            "|   |   |   |   |--- feature_1 <= 9.45\n",
            "|   |   |   |   |   |--- feature_0 <= 67.55\n",
            "|   |   |   |   |   |   |--- feature_0 <= 54.85\n",
            "|   |   |   |   |   |   |   |--- feature_2 <= 17.60\n",
            "|   |   |   |   |   |   |   |   |--- value: [7.60]\n",
            "|   |   |   |   |   |   |   |--- feature_2 >  17.60\n",
            "|   |   |   |   |   |   |   |   |--- value: [8.10]\n",
            "|   |   |   |   |   |   |--- feature_0 >  54.85\n",
            "|   |   |   |   |   |   |   |--- feature_0 <= 61.15\n",
            "|   |   |   |   |   |   |   |   |--- value: [8.70]\n",
            "|   |   |   |   |   |   |   |--- feature_0 >  61.15\n",
            "|   |   |   |   |   |   |   |   |--- value: [8.60]\n",
            "|   |   |   |   |   |--- feature_0 >  67.55\n",
            "|   |   |   |   |   |   |--- feature_1 <= 0.55\n",
            "|   |   |   |   |   |   |   |--- feature_1 <= 0.15\n",
            "|   |   |   |   |   |   |   |   |--- value: [8.80]\n",
            "|   |   |   |   |   |   |   |--- feature_1 >  0.15\n",
            "|   |   |   |   |   |   |   |   |--- value: [8.70]\n",
            "|   |   |   |   |   |   |--- feature_1 >  0.55\n",
            "|   |   |   |   |   |   |   |--- feature_2 <= 32.20\n",
            "|   |   |   |   |   |   |   |   |--- feature_0 <= 85.30\n",
            "|   |   |   |   |   |   |   |   |   |--- feature_1 <= 5.05\n",
            "|   |   |   |   |   |   |   |   |   |   |--- value: [9.40]\n",
            "|   |   |   |   |   |   |   |   |   |--- feature_1 >  5.05\n",
            "|   |   |   |   |   |   |   |   |   |   |--- value: [9.30]\n",
            "|   |   |   |   |   |   |   |   |--- feature_0 >  85.30\n",
            "|   |   |   |   |   |   |   |   |   |--- feature_1 <= 3.20\n",
            "|   |   |   |   |   |   |   |   |   |   |--- value: [9.60]\n",
            "|   |   |   |   |   |   |   |   |   |--- feature_1 >  3.20\n",
            "|   |   |   |   |   |   |   |   |   |   |--- value: [9.70]\n",
            "|   |   |   |   |   |   |   |--- feature_2 >  32.20\n",
            "|   |   |   |   |   |   |   |   |--- value: [10.40]\n",
            "|   |   |   |   |--- feature_1 >  9.45\n",
            "|   |   |   |   |   |--- feature_0 <= 68.75\n",
            "|   |   |   |   |   |   |--- feature_1 <= 11.65\n",
            "|   |   |   |   |   |   |   |--- value: [8.40]\n",
            "|   |   |   |   |   |   |--- feature_1 >  11.65\n",
            "|   |   |   |   |   |   |   |--- feature_1 <= 25.20\n",
            "|   |   |   |   |   |   |   |   |--- feature_2 <= 10.25\n",
            "|   |   |   |   |   |   |   |   |   |--- value: [9.50]\n",
            "|   |   |   |   |   |   |   |   |--- feature_2 >  10.25\n",
            "|   |   |   |   |   |   |   |   |   |--- value: [9.70]\n",
            "|   |   |   |   |   |   |   |--- feature_1 >  25.20\n",
            "|   |   |   |   |   |   |   |   |--- value: [10.10]\n",
            "|   |   |   |   |   |--- feature_0 >  68.75\n",
            "|   |   |   |   |   |   |--- feature_1 <= 13.30\n",
            "|   |   |   |   |   |   |   |--- feature_2 <= 14.75\n",
            "|   |   |   |   |   |   |   |   |--- value: [10.70]\n",
            "|   |   |   |   |   |   |   |--- feature_2 >  14.75\n",
            "|   |   |   |   |   |   |   |   |--- value: [10.60]\n",
            "|   |   |   |   |   |   |--- feature_1 >  13.30\n",
            "|   |   |   |   |   |   |   |--- feature_0 <= 74.35\n",
            "|   |   |   |   |   |   |   |   |--- feature_0 <= 72.00\n",
            "|   |   |   |   |   |   |   |   |   |--- value: [10.50]\n",
            "|   |   |   |   |   |   |   |   |--- feature_0 >  72.00\n",
            "|   |   |   |   |   |   |   |   |   |--- value: [10.90]\n",
            "|   |   |   |   |   |   |   |--- feature_0 >  74.35\n",
            "|   |   |   |   |   |   |   |   |--- feature_1 <= 17.55\n",
            "|   |   |   |   |   |   |   |   |   |--- value: [11.40]\n",
            "|   |   |   |   |   |   |   |   |--- feature_1 >  17.55\n",
            "|   |   |   |   |   |   |   |   |   |--- value: [11.30]\n",
            "|   |   |   |--- feature_0 >  106.00\n",
            "|   |   |   |   |--- feature_1 <= 18.50\n",
            "|   |   |   |   |   |--- feature_1 <= 8.05\n",
            "|   |   |   |   |   |   |--- value: [11.00]\n",
            "|   |   |   |   |   |--- feature_1 >  8.05\n",
            "|   |   |   |   |   |   |--- feature_1 <= 14.35\n",
            "|   |   |   |   |   |   |   |--- feature_0 <= 114.20\n",
            "|   |   |   |   |   |   |   |   |--- value: [11.50]\n",
            "|   |   |   |   |   |   |   |--- feature_0 >  114.20\n",
            "|   |   |   |   |   |   |   |   |--- value: [11.60]\n",
            "|   |   |   |   |   |   |--- feature_1 >  14.35\n",
            "|   |   |   |   |   |   |   |--- value: [11.90]\n",
            "|   |   |   |   |--- feature_1 >  18.50\n",
            "|   |   |   |   |   |--- value: [13.20]\n",
            "|   |   |--- feature_1 >  27.10\n",
            "|   |   |   |--- feature_0 <= 77.25\n",
            "|   |   |   |   |--- feature_1 <= 48.20\n",
            "|   |   |   |   |   |--- feature_1 <= 38.45\n",
            "|   |   |   |   |   |   |--- feature_1 <= 31.25\n",
            "|   |   |   |   |   |   |   |--- value: [12.00]\n",
            "|   |   |   |   |   |   |--- feature_1 >  31.25\n",
            "|   |   |   |   |   |   |   |--- feature_2 <= 83.35\n",
            "|   |   |   |   |   |   |   |   |--- value: [12.60]\n",
            "|   |   |   |   |   |   |   |--- feature_2 >  83.35\n",
            "|   |   |   |   |   |   |   |   |--- value: [12.50]\n",
            "|   |   |   |   |   |--- feature_1 >  38.45\n",
            "|   |   |   |   |   |   |--- feature_0 <= 43.15\n",
            "|   |   |   |   |   |   |   |--- value: [10.90]\n",
            "|   |   |   |   |   |   |--- feature_0 >  43.15\n",
            "|   |   |   |   |   |   |   |--- value: [11.60]\n",
            "|   |   |   |   |--- feature_1 >  48.20\n",
            "|   |   |   |   |   |--- value: [14.70]\n",
            "|   |   |   |--- feature_0 >  77.25\n",
            "|   |   |   |   |--- feature_2 <= 49.90\n",
            "|   |   |   |   |   |--- feature_2 <= 41.90\n",
            "|   |   |   |   |   |   |--- feature_1 <= 38.20\n",
            "|   |   |   |   |   |   |   |--- feature_0 <= 111.60\n",
            "|   |   |   |   |   |   |   |   |--- value: [14.00]\n",
            "|   |   |   |   |   |   |   |--- feature_0 >  111.60\n",
            "|   |   |   |   |   |   |   |   |--- value: [14.20]\n",
            "|   |   |   |   |   |   |--- feature_1 >  38.20\n",
            "|   |   |   |   |   |   |   |--- value: [14.60]\n",
            "|   |   |   |   |   |--- feature_2 >  41.90\n",
            "|   |   |   |   |   |   |--- value: [13.30]\n",
            "|   |   |   |   |--- feature_2 >  49.90\n",
            "|   |   |   |   |   |--- feature_1 <= 42.05\n",
            "|   |   |   |   |   |   |--- value: [16.00]\n",
            "|   |   |   |   |   |--- feature_1 >  42.05\n",
            "|   |   |   |   |   |   |--- value: [15.30]\n",
            "|--- feature_0 >  123.35\n",
            "|   |--- feature_1 <= 26.85\n",
            "|   |   |--- feature_1 <= 10.30\n",
            "|   |   |   |--- feature_0 <= 157.70\n",
            "|   |   |   |   |--- feature_2 <= 28.95\n",
            "|   |   |   |   |   |--- feature_1 <= 1.60\n",
            "|   |   |   |   |   |   |--- value: [10.10]\n",
            "|   |   |   |   |   |--- feature_1 >  1.60\n",
            "|   |   |   |   |   |   |--- value: [10.30]\n",
            "|   |   |   |   |--- feature_2 >  28.95\n",
            "|   |   |   |   |   |--- value: [11.00]\n",
            "|   |   |   |--- feature_0 >  157.70\n",
            "|   |   |   |   |--- feature_1 <= 3.80\n",
            "|   |   |   |   |   |--- feature_0 <= 229.25\n",
            "|   |   |   |   |   |   |--- feature_2 <= 18.40\n",
            "|   |   |   |   |   |   |   |--- feature_0 <= 210.00\n",
            "|   |   |   |   |   |   |   |   |--- value: [11.70]\n",
            "|   |   |   |   |   |   |   |--- feature_0 >  210.00\n",
            "|   |   |   |   |   |   |   |   |--- feature_0 <= 223.20\n",
            "|   |   |   |   |   |   |   |   |   |--- value: [11.50]\n",
            "|   |   |   |   |   |   |   |   |--- feature_0 >  223.20\n",
            "|   |   |   |   |   |   |   |   |   |--- value: [11.60]\n",
            "|   |   |   |   |   |   |--- feature_2 >  18.40\n",
            "|   |   |   |   |   |   |   |--- feature_2 <= 27.90\n",
            "|   |   |   |   |   |   |   |   |--- value: [10.60]\n",
            "|   |   |   |   |   |   |   |--- feature_2 >  27.90\n",
            "|   |   |   |   |   |   |   |   |--- value: [11.40]\n",
            "|   |   |   |   |   |--- feature_0 >  229.25\n",
            "|   |   |   |   |   |   |--- feature_2 <= 33.35\n",
            "|   |   |   |   |   |   |   |--- feature_2 <= 21.60\n",
            "|   |   |   |   |   |   |   |   |--- value: [12.00]\n",
            "|   |   |   |   |   |   |   |--- feature_2 >  21.60\n",
            "|   |   |   |   |   |   |   |   |--- value: [11.80]\n",
            "|   |   |   |   |   |   |--- feature_2 >  33.35\n",
            "|   |   |   |   |   |   |   |--- feature_0 <= 249.85\n",
            "|   |   |   |   |   |   |   |   |--- value: [11.90]\n",
            "|   |   |   |   |   |   |   |--- feature_0 >  249.85\n",
            "|   |   |   |   |   |   |   |   |--- value: [12.70]\n",
            "|   |   |   |   |--- feature_1 >  3.80\n",
            "|   |   |   |   |   |--- feature_0 <= 172.70\n",
            "|   |   |   |   |   |   |--- feature_2 <= 15.20\n",
            "|   |   |   |   |   |   |   |--- value: [11.70]\n",
            "|   |   |   |   |   |   |--- feature_2 >  15.20\n",
            "|   |   |   |   |   |   |   |--- value: [12.60]\n",
            "|   |   |   |   |   |--- feature_0 >  172.70\n",
            "|   |   |   |   |   |   |--- feature_2 <= 41.45\n",
            "|   |   |   |   |   |   |   |--- feature_1 <= 6.20\n",
            "|   |   |   |   |   |   |   |   |--- feature_1 <= 4.60\n",
            "|   |   |   |   |   |   |   |   |   |--- value: [12.80]\n",
            "|   |   |   |   |   |   |   |   |--- feature_1 >  4.60\n",
            "|   |   |   |   |   |   |   |   |   |--- value: [12.50]\n",
            "|   |   |   |   |   |   |   |--- feature_1 >  6.20\n",
            "|   |   |   |   |   |   |   |   |--- feature_0 <= 223.50\n",
            "|   |   |   |   |   |   |   |   |   |--- feature_0 <= 191.95\n",
            "|   |   |   |   |   |   |   |   |   |   |--- value: [12.80]\n",
            "|   |   |   |   |   |   |   |   |   |--- feature_0 >  191.95\n",
            "|   |   |   |   |   |   |   |   |   |   |--- value: [12.90]\n",
            "|   |   |   |   |   |   |   |   |--- feature_0 >  223.50\n",
            "|   |   |   |   |   |   |   |   |   |--- value: [13.20]\n",
            "|   |   |   |   |   |   |--- feature_2 >  41.45\n",
            "|   |   |   |   |   |   |   |--- value: [13.40]\n",
            "|   |   |--- feature_1 >  10.30\n",
            "|   |   |   |--- feature_0 <= 182.85\n",
            "|   |   |   |   |--- feature_1 <= 21.55\n",
            "|   |   |   |   |   |--- feature_2 <= 32.65\n",
            "|   |   |   |   |   |   |--- feature_0 <= 155.90\n",
            "|   |   |   |   |   |   |   |--- feature_1 <= 16.85\n",
            "|   |   |   |   |   |   |   |   |--- value: [13.40]\n",
            "|   |   |   |   |   |   |   |--- feature_1 >  16.85\n",
            "|   |   |   |   |   |   |   |   |--- value: [13.20]\n",
            "|   |   |   |   |   |   |--- feature_0 >  155.90\n",
            "|   |   |   |   |   |   |   |--- value: [14.40]\n",
            "|   |   |   |   |   |--- feature_2 >  32.65\n",
            "|   |   |   |   |   |   |--- value: [12.90]\n",
            "|   |   |   |   |--- feature_1 >  21.55\n",
            "|   |   |   |   |   |--- feature_2 <= 32.65\n",
            "|   |   |   |   |   |   |--- value: [14.60]\n",
            "|   |   |   |   |   |--- feature_2 >  32.65\n",
            "|   |   |   |   |   |   |--- value: [15.50]\n",
            "|   |   |   |--- feature_0 >  182.85\n",
            "|   |   |   |   |--- feature_1 <= 21.70\n",
            "|   |   |   |   |   |--- feature_0 <= 201.40\n",
            "|   |   |   |   |   |   |--- feature_1 <= 18.25\n",
            "|   |   |   |   |   |   |   |--- feature_2 <= 21.75\n",
            "|   |   |   |   |   |   |   |   |--- value: [14.70]\n",
            "|   |   |   |   |   |   |   |--- feature_2 >  21.75\n",
            "|   |   |   |   |   |   |   |   |--- value: [14.90]\n",
            "|   |   |   |   |   |   |--- feature_1 >  18.25\n",
            "|   |   |   |   |   |   |   |--- feature_1 <= 19.70\n",
            "|   |   |   |   |   |   |   |   |--- value: [15.20]\n",
            "|   |   |   |   |   |   |   |--- feature_1 >  19.70\n",
            "|   |   |   |   |   |   |   |   |--- feature_0 <= 186.35\n",
            "|   |   |   |   |   |   |   |   |   |--- value: [15.50]\n",
            "|   |   |   |   |   |   |   |   |--- feature_0 >  186.35\n",
            "|   |   |   |   |   |   |   |   |   |--- value: [15.60]\n",
            "|   |   |   |   |   |--- feature_0 >  201.40\n",
            "|   |   |   |   |   |   |--- feature_0 <= 282.50\n",
            "|   |   |   |   |   |   |   |--- feature_0 <= 239.70\n",
            "|   |   |   |   |   |   |   |   |--- feature_0 <= 218.95\n",
            "|   |   |   |   |   |   |   |   |   |--- value: [15.90]\n",
            "|   |   |   |   |   |   |   |   |--- feature_0 >  218.95\n",
            "|   |   |   |   |   |   |   |   |   |--- feature_0 <= 233.80\n",
            "|   |   |   |   |   |   |   |   |   |   |--- value: [15.50]\n",
            "|   |   |   |   |   |   |   |   |   |--- feature_0 >  233.80\n",
            "|   |   |   |   |   |   |   |   |   |   |--- value: [15.70]\n",
            "|   |   |   |   |   |   |   |--- feature_0 >  239.70\n",
            "|   |   |   |   |   |   |   |   |--- feature_0 <= 260.40\n",
            "|   |   |   |   |   |   |   |   |   |--- value: [15.90]\n",
            "|   |   |   |   |   |   |   |   |--- feature_0 >  260.40\n",
            "|   |   |   |   |   |   |   |   |   |--- value: [16.10]\n",
            "|   |   |   |   |   |   |--- feature_0 >  282.50\n",
            "|   |   |   |   |   |   |   |--- value: [15.00]\n",
            "|   |   |   |   |--- feature_1 >  21.70\n",
            "|   |   |   |   |   |--- feature_1 <= 23.45\n",
            "|   |   |   |   |   |   |--- value: [16.60]\n",
            "|   |   |   |   |   |--- feature_1 >  23.45\n",
            "|   |   |   |   |   |   |--- feature_0 <= 214.40\n",
            "|   |   |   |   |   |   |   |--- value: [17.00]\n",
            "|   |   |   |   |   |   |--- feature_0 >  214.40\n",
            "|   |   |   |   |   |   |   |--- value: [17.10]\n",
            "|   |--- feature_1 >  26.85\n",
            "|   |   |--- feature_0 <= 264.80\n",
            "|   |   |   |--- feature_0 <= 179.80\n",
            "|   |   |   |   |--- feature_1 <= 39.10\n",
            "|   |   |   |   |   |--- feature_2 <= 66.05\n",
            "|   |   |   |   |   |   |--- feature_1 <= 36.20\n",
            "|   |   |   |   |   |   |   |--- feature_1 <= 32.50\n",
            "|   |   |   |   |   |   |   |   |--- value: [16.90]\n",
            "|   |   |   |   |   |   |   |--- feature_1 >  32.50\n",
            "|   |   |   |   |   |   |   |   |--- feature_2 <= 22.35\n",
            "|   |   |   |   |   |   |   |   |   |--- value: [17.30]\n",
            "|   |   |   |   |   |   |   |   |--- feature_2 >  22.35\n",
            "|   |   |   |   |   |   |   |   |   |--- value: [17.10]\n",
            "|   |   |   |   |   |   |--- feature_1 >  36.20\n",
            "|   |   |   |   |   |   |   |--- value: [18.00]\n",
            "|   |   |   |   |   |--- feature_2 >  66.05\n",
            "|   |   |   |   |   |   |--- value: [15.90]\n",
            "|   |   |   |   |--- feature_1 >  39.10\n",
            "|   |   |   |   |   |--- feature_0 <= 134.50\n",
            "|   |   |   |   |   |   |--- value: [18.00]\n",
            "|   |   |   |   |   |--- feature_0 >  134.50\n",
            "|   |   |   |   |   |   |--- feature_1 <= 41.65\n",
            "|   |   |   |   |   |   |   |--- value: [18.50]\n",
            "|   |   |   |   |   |   |--- feature_1 >  41.65\n",
            "|   |   |   |   |   |   |   |--- feature_0 <= 152.35\n",
            "|   |   |   |   |   |   |   |   |--- value: [19.20]\n",
            "|   |   |   |   |   |   |   |--- feature_0 >  152.35\n",
            "|   |   |   |   |   |   |   |   |--- value: [19.60]\n",
            "|   |   |   |--- feature_0 >  179.80\n",
            "|   |   |   |   |--- feature_1 <= 35.95\n",
            "|   |   |   |   |   |--- feature_0 <= 219.10\n",
            "|   |   |   |   |   |   |--- feature_1 <= 32.05\n",
            "|   |   |   |   |   |   |   |--- feature_1 <= 28.60\n",
            "|   |   |   |   |   |   |   |   |--- value: [18.00]\n",
            "|   |   |   |   |   |   |   |--- feature_1 >  28.60\n",
            "|   |   |   |   |   |   |   |   |--- feature_0 <= 204.90\n",
            "|   |   |   |   |   |   |   |   |   |--- value: [18.30]\n",
            "|   |   |   |   |   |   |   |   |--- feature_0 >  204.90\n",
            "|   |   |   |   |   |   |   |   |   |--- value: [18.40]\n",
            "|   |   |   |   |   |   |--- feature_1 >  32.05\n",
            "|   |   |   |   |   |   |   |--- feature_2 <= 67.30\n",
            "|   |   |   |   |   |   |   |   |--- value: [19.40]\n",
            "|   |   |   |   |   |   |   |--- feature_2 >  67.30\n",
            "|   |   |   |   |   |   |   |   |--- value: [19.20]\n",
            "|   |   |   |   |   |--- feature_0 >  219.10\n",
            "|   |   |   |   |   |   |--- feature_1 <= 28.15\n",
            "|   |   |   |   |   |   |   |--- feature_0 <= 252.10\n",
            "|   |   |   |   |   |   |   |   |--- value: [18.90]\n",
            "|   |   |   |   |   |   |   |--- feature_0 >  252.10\n",
            "|   |   |   |   |   |   |   |   |--- value: [19.80]\n",
            "|   |   |   |   |   |   |--- feature_1 >  28.15\n",
            "|   |   |   |   |   |   |   |--- feature_2 <= 41.50\n",
            "|   |   |   |   |   |   |   |   |--- feature_2 <= 10.60\n",
            "|   |   |   |   |   |   |   |   |   |--- value: [20.70]\n",
            "|   |   |   |   |   |   |   |   |--- feature_2 >  10.60\n",
            "|   |   |   |   |   |   |   |   |   |--- feature_1 <= 31.70\n",
            "|   |   |   |   |   |   |   |   |   |   |--- value: [20.20]\n",
            "|   |   |   |   |   |   |   |   |   |--- feature_1 >  31.70\n",
            "|   |   |   |   |   |   |   |   |   |   |--- value: [20.10]\n",
            "|   |   |   |   |   |   |   |--- feature_2 >  41.50\n",
            "|   |   |   |   |   |   |   |   |--- value: [19.60]\n",
            "|   |   |   |   |--- feature_1 >  35.95\n",
            "|   |   |   |   |   |--- feature_1 <= 48.55\n",
            "|   |   |   |   |   |   |--- feature_0 <= 190.15\n",
            "|   |   |   |   |   |   |   |--- feature_2 <= 30.20\n",
            "|   |   |   |   |   |   |   |   |--- value: [20.70]\n",
            "|   |   |   |   |   |   |   |--- feature_2 >  30.20\n",
            "|   |   |   |   |   |   |   |   |--- value: [21.20]\n",
            "|   |   |   |   |   |   |--- feature_0 >  190.15\n",
            "|   |   |   |   |   |   |   |--- feature_1 <= 39.75\n",
            "|   |   |   |   |   |   |   |   |--- feature_2 <= 50.60\n",
            "|   |   |   |   |   |   |   |   |   |--- value: [21.50]\n",
            "|   |   |   |   |   |   |   |   |--- feature_2 >  50.60\n",
            "|   |   |   |   |   |   |   |   |   |--- feature_0 <= 240.50\n",
            "|   |   |   |   |   |   |   |   |   |   |--- value: [22.10]\n",
            "|   |   |   |   |   |   |   |   |   |--- feature_0 >  240.50\n",
            "|   |   |   |   |   |   |   |   |   |   |--- value: [22.20]\n",
            "|   |   |   |   |   |   |   |--- feature_1 >  39.75\n",
            "|   |   |   |   |   |   |   |   |--- feature_0 <= 200.20\n",
            "|   |   |   |   |   |   |   |   |   |--- value: [22.40]\n",
            "|   |   |   |   |   |   |   |   |--- feature_0 >  200.20\n",
            "|   |   |   |   |   |   |   |   |   |--- value: [22.60]\n",
            "|   |   |   |   |   |--- feature_1 >  48.55\n",
            "|   |   |   |   |   |   |--- feature_0 <= 204.85\n",
            "|   |   |   |   |   |   |   |--- value: [23.70]\n",
            "|   |   |   |   |   |   |--- feature_0 >  204.85\n",
            "|   |   |   |   |   |   |   |--- value: [23.80]\n",
            "|   |   |--- feature_0 >  264.80\n",
            "|   |   |   |--- feature_1 <= 32.60\n",
            "|   |   |   |   |--- feature_0 <= 293.25\n",
            "|   |   |   |   |   |--- feature_2 <= 51.45\n",
            "|   |   |   |   |   |   |--- value: [21.40]\n",
            "|   |   |   |   |   |--- feature_2 >  51.45\n",
            "|   |   |   |   |   |   |--- value: [20.80]\n",
            "|   |   |   |   |--- feature_0 >  293.25\n",
            "|   |   |   |   |   |--- value: [20.70]\n",
            "|   |   |   |--- feature_1 >  32.60\n",
            "|   |   |   |   |--- feature_1 <= 40.80\n",
            "|   |   |   |   |   |--- feature_2 <= 78.35\n",
            "|   |   |   |   |   |   |--- value: [24.40]\n",
            "|   |   |   |   |   |--- feature_2 >  78.35\n",
            "|   |   |   |   |   |   |--- value: [23.80]\n",
            "|   |   |   |   |--- feature_1 >  40.80\n",
            "|   |   |   |   |   |--- feature_2 <= 69.00\n",
            "|   |   |   |   |   |   |--- feature_2 <= 58.70\n",
            "|   |   |   |   |   |   |   |--- value: [25.40]\n",
            "|   |   |   |   |   |   |--- feature_2 >  58.70\n",
            "|   |   |   |   |   |   |   |--- value: [25.50]\n",
            "|   |   |   |   |   |--- feature_2 >  69.00\n",
            "|   |   |   |   |   |   |--- value: [26.20]\n",
            "\n"
          ],
          "name": "stdout"
        }
      ]
    },
    {
      "cell_type": "code",
      "metadata": {
        "colab": {
          "base_uri": "https://localhost:8080/",
          "height": 346
        },
        "id": "ch4i75rQY5xN",
        "outputId": "ef781b29-cd06-4d4d-bccd-f14220c0bc23"
      },
      "source": [
        "# Evaluate the model using the test data\r\n",
        "y_pred = model.predict(X_test)\r\n",
        "mse = mean_squared_error(y_test, y_pred)\r\n",
        "print(\"MSE:\", mse)\r\n",
        "rmse = np.sqrt(mse)\r\n",
        "print(\"RMSE:\", rmse)\r\n",
        "r2 = r2_score(y_test, y_pred)\r\n",
        "print(\"R2:\", r2)\r\n",
        "\r\n",
        "# Plot predicted vs actual\r\n",
        "plt.scatter(y_test, y_pred)\r\n",
        "plt.xlabel('Actual Labels')\r\n",
        "plt.ylabel('Predicted Labels')\r\n",
        "plt.title('Advertising Sales Data')\r\n",
        "# overlay the regression line\r\n",
        "#z = np.polyfit(y_test, y_pred, 1)\r\n",
        "#p = np.poly1d(z)\r\n",
        "#plt.plot(y_test,p(y_test), color='magenta')\r\n",
        "plt.show()"
      ],
      "execution_count": 59,
      "outputs": [
        {
          "output_type": "stream",
          "text": [
            "MSE: 1.0869999999999995\n",
            "RMSE: 1.042592921518269\n",
            "R2: 0.9561793629067942\n"
          ],
          "name": "stdout"
        },
        {
          "output_type": "display_data",
          "data": {
            "image/png": "[encoded data removed]",
            "text/plain": [
              "<Figure size 432x288 with 1 Axes>"
            ]
          },
          "metadata": {
            "tags": [],
            "needs_background": "light"
          }
        }
      ]
    },
    {
      "cell_type": "markdown",
      "metadata": {
        "id": "3Hsvio5CZc5X"
      },
      "source": [
        "#### **Ensemble Algorithm**"
      ]
    },
    {
      "cell_type": "code",
      "metadata": {
        "colab": {
          "base_uri": "https://localhost:8080/",
          "height": 536
        },
        "id": "VFbKwWZiZvpL",
        "outputId": "46088268-d0f4-4823-ca29-134df51420be"
      },
      "source": [
        "from sklearn.ensemble import RandomForestRegressor\r\n",
        "\r\n",
        "# Train the model\r\n",
        "model = RandomForestRegressor().fit(X_train, y_train)\r\n",
        "print (model, \"\\n\")\r\n",
        "\r\n",
        "# Evaluate the model using the test data\r\n",
        "y_pred = model.predict(X_test)\r\n",
        "mse = mean_squared_error(y_test, y_pred)\r\n",
        "print(\"MSE:\", mse)\r\n",
        "rmse = np.sqrt(mse)\r\n",
        "print(\"RMSE:\", rmse)\r\n",
        "r2 = r2_score(y_test, y_pred)\r\n",
        "print(\"R2:\", r2)\r\n",
        "\r\n",
        "# Plot predicted vs actual\r\n",
        "plt.scatter(y_test, y_pred)\r\n",
        "plt.xlabel('Actual Labels')\r\n",
        "plt.ylabel('Predicted Labels')\r\n",
        "plt.title('Advertising Sales Data - Ensemble Algorithm')\r\n",
        "# overlay the regression line\r\n",
        "#z = np.polyfit(y_test, y_pred, 1)\r\n",
        "#p = np.poly1d(z)\r\n",
        "#plt.plot(y_test,p(y_test), color='magenta')\r\n",
        "plt.show()\r\n",
        "\r\n"
      ],
      "execution_count": 65,
      "outputs": [
        {
          "output_type": "stream",
          "text": [
            "/usr/local/lib/python3.6/dist-packages/ipykernel_launcher.py:4: DataConversionWarning: A column-vector y was passed when a 1d array was expected. Please change the shape of y to (n_samples,), for example using ravel().\n",
            "  after removing the cwd from sys.path.\n"
          ],
          "name": "stderr"
        },
        {
          "output_type": "stream",
          "text": [
            "RandomForestRegressor(bootstrap=True, ccp_alpha=0.0, criterion='mse',\n",
            "                      max_depth=None, max_features='auto', max_leaf_nodes=None,\n",
            "                      max_samples=None, min_impurity_decrease=0.0,\n",
            "                      min_impurity_split=None, min_samples_leaf=1,\n",
            "                      min_samples_split=2, min_weight_fraction_leaf=0.0,\n",
            "                      n_estimators=100, n_jobs=None, oob_score=False,\n",
            "                      random_state=None, verbose=0, warm_start=False) \n",
            "\n",
            "MSE: 0.7152329199999999\n",
            "RMSE: 0.8457144435328038\n",
            "R2: 0.9711665480915972\n"
          ],
          "name": "stdout"
        },
        {
          "output_type": "display_data",
          "data": {
            "image/png": "[encoded data removed]",
            "text/plain": [
              "<Figure size 432x288 with 1 Axes>"
            ]
          },
          "metadata": {
            "tags": [],
            "needs_background": "light"
          }
        }
      ]
    },
    {
      "cell_type": "markdown",
      "metadata": {
        "id": "8fGrLV9_a7IH"
      },
      "source": [
        "#### **Ensemble - Gradient Boosting**"
      ]
    },
    {
      "cell_type": "code",
      "metadata": {
        "colab": {
          "base_uri": "https://localhost:8080/",
          "height": 570
        },
        "id": "hFPOqHrmbBLK",
        "outputId": "2f51c43e-0f3c-48dc-f191-587b0214feb7"
      },
      "source": [
        "# Train the model\r\n",
        "from sklearn.ensemble import GradientBoostingRegressor\r\n",
        "\r\n",
        "# Fit a lasso model on the training set\r\n",
        "model = GradientBoostingRegressor().fit(X_train, y_train)\r\n",
        "print (model, \"\\n\")\r\n",
        "\r\n",
        "# Evaluate the model using the test data\r\n",
        "y_pred = model.predict(X_test)\r\n",
        "mse = mean_squared_error(y_test, y_pred)\r\n",
        "print(\"MSE:\", mse)\r\n",
        "rmse = np.sqrt(mse)\r\n",
        "print(\"RMSE:\", rmse)\r\n",
        "r2 = r2_score(y_test, y_pred)\r\n",
        "print(\"R2:\", r2)\r\n",
        "\r\n",
        "# Plot predicted vs actual\r\n",
        "plt.scatter(y_test, y_pred)\r\n",
        "plt.xlabel('Actual Labels')\r\n",
        "plt.ylabel('Predicted Labels')\r\n",
        "plt.title('Advertising Sales Data - Gradient Boosting')\r\n",
        "# overlay the regression line\r\n",
        "#z = np.polyfit(y_test, y_pred, 1)\r\n",
        "#p = np.poly1d(z)\r\n",
        "#plt.plot(y_test,p(y_test), color='magenta')\r\n",
        "plt.show()"
      ],
      "execution_count": 64,
      "outputs": [
        {
          "output_type": "stream",
          "text": [
            "/usr/local/lib/python3.6/dist-packages/sklearn/ensemble/_gb.py:1454: DataConversionWarning: A column-vector y was passed when a 1d array was expected. Please change the shape of y to (n_samples, ), for example using ravel().\n",
            "  y = column_or_1d(y, warn=True)\n"
          ],
          "name": "stderr"
        },
        {
          "output_type": "stream",
          "text": [
            "GradientBoostingRegressor(alpha=0.9, ccp_alpha=0.0, criterion='friedman_mse',\n",
            "                          init=None, learning_rate=0.1, loss='ls', max_depth=3,\n",
            "                          max_features=None, max_leaf_nodes=None,\n",
            "                          min_impurity_decrease=0.0, min_impurity_split=None,\n",
            "                          min_samples_leaf=1, min_samples_split=2,\n",
            "                          min_weight_fraction_leaf=0.0, n_estimators=100,\n",
            "                          n_iter_no_change=None, presort='deprecated',\n",
            "                          random_state=None, subsample=1.0, tol=0.0001,\n",
            "                          validation_fraction=0.1, verbose=0, warm_start=False) \n",
            "\n",
            "MSE: 0.5403100263874695\n",
            "RMSE: 0.7350578388041784\n",
            "R2: 0.9782182800513839\n"
          ],
          "name": "stdout"
        },
        {
          "output_type": "display_data",
          "data": {
            "image/png": "[encoded data removed]",
            "text/plain": [
              "<Figure size 432x288 with 1 Axes>"
            ]
          },
          "metadata": {
            "tags": [],
            "needs_background": "light"
          }
        }
      ]
    },
    {
      "cell_type": "markdown",
      "metadata": {
        "id": "xnCKlYfid-mN"
      },
      "source": [
        "**Hyperparameter Optimization**\r\n",
        "\r\n",
        "\r\n",
        "**Gradient Boosting + Grid Search**\r\n"
      ]
    },
    {
      "cell_type": "code",
      "metadata": {
        "id": "iimAmnx_eKYa",
        "outputId": "2d23b6a6-984c-4e66-e5a6-cd2f2670d89b",
        "colab": {
          "base_uri": "https://localhost:8080/",
          "height": 1000
        }
      },
      "source": [
        "from sklearn.model_selection import GridSearchCV\r\n",
        "from sklearn.metrics import make_scorer, r2_score\r\n",
        "\r\n",
        "# Use a Gradient Boosting algorithm\r\n",
        "alg = GradientBoostingRegressor()\r\n",
        "\r\n",
        "# Try these hyperparameter values\r\n",
        "params = {\r\n",
        " 'learning_rate': [0.1, 0.5, 1.0],\r\n",
        " 'n_estimators' : [50, 100, 150]\r\n",
        " }\r\n",
        "\r\n",
        "# Find the best hyperparameter combination to optimize the R2 metric\r\n",
        "score = make_scorer(r2_score)\r\n",
        "gridsearch = GridSearchCV(alg, params, scoring=score, cv=3, return_train_score=True)\r\n",
        "gridsearch.fit(X_train, y_train)\r\n",
        "print(\"Best parameter combination:\", gridsearch.best_params_, \"\\n\")\r\n",
        "\r\n",
        "# Get the best model\r\n",
        "model=gridsearch.best_estimator_\r\n",
        "print(model, \"\\n\")\r\n",
        "\r\n",
        "# Evaluate the model using the test data\r\n",
        "y_pred = model.predict(X_test)\r\n",
        "mse = mean_squared_error(y_test, y_pred)\r\n",
        "print(\"MSE:\", mse)\r\n",
        "rmse = np.sqrt(mse)\r\n",
        "print(\"RMSE:\", rmse)\r\n",
        "r2 = r2_score(y_test, y_pred)\r\n",
        "print(\"R2:\", r2)\r\n",
        "\r\n",
        "# Plot predicted vs actual\r\n",
        "plt.scatter(y_test, y_pred)\r\n",
        "plt.xlabel('Actual Labels')\r\n",
        "plt.ylabel('Predicted Labels')\r\n",
        "plt.title('Advertising Sales Data - Gradient Boosting')\r\n",
        "# overlay the regression line\r\n",
        "#z = np.polyfit(y_test, y_pred, 1)\r\n",
        "#p = np.poly1d(z)\r\n",
        "#plt.plot(y_test,p(y_test), color='magenta')\r\n",
        "plt.show()"
      ],
      "execution_count": 67,
      "outputs": [
        {
          "output_type": "stream",
          "text": [
            "/usr/local/lib/python3.6/dist-packages/sklearn/ensemble/_gb.py:1454: DataConversionWarning: A column-vector y was passed when a 1d array was expected. Please change the shape of y to (n_samples, ), for example using ravel().\n",
            "  y = column_or_1d(y, warn=True)\n",
            "/usr/local/lib/python3.6/dist-packages/sklearn/ensemble/_gb.py:1454: DataConversionWarning: A column-vector y was passed when a 1d array was expected. Please change the shape of y to (n_samples, ), for example using ravel().\n",
            "  y = column_or_1d(y, warn=True)\n",
            "/usr/local/lib/python3.6/dist-packages/sklearn/ensemble/_gb.py:1454: DataConversionWarning: A column-vector y was passed when a 1d array was expected. Please change the shape of y to (n_samples, ), for example using ravel().\n",
            "  y = column_or_1d(y, warn=True)\n",
            "/usr/local/lib/python3.6/dist-packages/sklearn/ensemble/_gb.py:1454: DataConversionWarning: A column-vector y was passed when a 1d array was expected. Please change the shape of y to (n_samples, ), for example using ravel().\n",
            "  y = column_or_1d(y, warn=True)\n",
            "/usr/local/lib/python3.6/dist-packages/sklearn/ensemble/_gb.py:1454: DataConversionWarning: A column-vector y was passed when a 1d array was expected. Please change the shape of y to (n_samples, ), for example using ravel().\n",
            "  y = column_or_1d(y, warn=True)\n",
            "/usr/local/lib/python3.6/dist-packages/sklearn/ensemble/_gb.py:1454: DataConversionWarning: A column-vector y was passed when a 1d array was expected. Please change the shape of y to (n_samples, ), for example using ravel().\n",
            "  y = column_or_1d(y, warn=True)\n",
            "/usr/local/lib/python3.6/dist-packages/sklearn/ensemble/_gb.py:1454: DataConversionWarning: A column-vector y was passed when a 1d array was expected. Please change the shape of y to (n_samples, ), for example using ravel().\n",
            "  y = column_or_1d(y, warn=True)\n",
            "/usr/local/lib/python3.6/dist-packages/sklearn/ensemble/_gb.py:1454: DataConversionWarning: A column-vector y was passed when a 1d array was expected. Please change the shape of y to (n_samples, ), for example using ravel().\n",
            "  y = column_or_1d(y, warn=True)\n",
            "/usr/local/lib/python3.6/dist-packages/sklearn/ensemble/_gb.py:1454: DataConversionWarning: A column-vector y was passed when a 1d array was expected. Please change the shape of y to (n_samples, ), for example using ravel().\n",
            "  y = column_or_1d(y, warn=True)\n",
            "/usr/local/lib/python3.6/dist-packages/sklearn/ensemble/_gb.py:1454: DataConversionWarning: A column-vector y was passed when a 1d array was expected. Please change the shape of y to (n_samples, ), for example using ravel().\n",
            "  y = column_or_1d(y, warn=True)\n",
            "/usr/local/lib/python3.6/dist-packages/sklearn/ensemble/_gb.py:1454: DataConversionWarning: A column-vector y was passed when a 1d array was expected. Please change the shape of y to (n_samples, ), for example using ravel().\n",
            "  y = column_or_1d(y, warn=True)\n",
            "/usr/local/lib/python3.6/dist-packages/sklearn/ensemble/_gb.py:1454: DataConversionWarning: A column-vector y was passed when a 1d array was expected. Please change the shape of y to (n_samples, ), for example using ravel().\n",
            "  y = column_or_1d(y, warn=True)\n",
            "/usr/local/lib/python3.6/dist-packages/sklearn/ensemble/_gb.py:1454: DataConversionWarning: A column-vector y was passed when a 1d array was expected. Please change the shape of y to (n_samples, ), for example using ravel().\n",
            "  y = column_or_1d(y, warn=True)\n",
            "/usr/local/lib/python3.6/dist-packages/sklearn/ensemble/_gb.py:1454: DataConversionWarning: A column-vector y was passed when a 1d array was expected. Please change the shape of y to (n_samples, ), for example using ravel().\n",
            "  y = column_or_1d(y, warn=True)\n",
            "/usr/local/lib/python3.6/dist-packages/sklearn/ensemble/_gb.py:1454: DataConversionWarning: A column-vector y was passed when a 1d array was expected. Please change the shape of y to (n_samples, ), for example using ravel().\n",
            "  y = column_or_1d(y, warn=True)\n",
            "/usr/local/lib/python3.6/dist-packages/sklearn/ensemble/_gb.py:1454: DataConversionWarning: A column-vector y was passed when a 1d array was expected. Please change the shape of y to (n_samples, ), for example using ravel().\n",
            "  y = column_or_1d(y, warn=True)\n",
            "/usr/local/lib/python3.6/dist-packages/sklearn/ensemble/_gb.py:1454: DataConversionWarning: A column-vector y was passed when a 1d array was expected. Please change the shape of y to (n_samples, ), for example using ravel().\n",
            "  y = column_or_1d(y, warn=True)\n",
            "/usr/local/lib/python3.6/dist-packages/sklearn/ensemble/_gb.py:1454: DataConversionWarning: A column-vector y was passed when a 1d array was expected. Please change the shape of y to (n_samples, ), for example using ravel().\n",
            "  y = column_or_1d(y, warn=True)\n",
            "/usr/local/lib/python3.6/dist-packages/sklearn/ensemble/_gb.py:1454: DataConversionWarning: A column-vector y was passed when a 1d array was expected. Please change the shape of y to (n_samples, ), for example using ravel().\n",
            "  y = column_or_1d(y, warn=True)\n",
            "/usr/local/lib/python3.6/dist-packages/sklearn/ensemble/_gb.py:1454: DataConversionWarning: A column-vector y was passed when a 1d array was expected. Please change the shape of y to (n_samples, ), for example using ravel().\n",
            "  y = column_or_1d(y, warn=True)\n",
            "/usr/local/lib/python3.6/dist-packages/sklearn/ensemble/_gb.py:1454: DataConversionWarning: A column-vector y was passed when a 1d array was expected. Please change the shape of y to (n_samples, ), for example using ravel().\n",
            "  y = column_or_1d(y, warn=True)\n",
            "/usr/local/lib/python3.6/dist-packages/sklearn/ensemble/_gb.py:1454: DataConversionWarning: A column-vector y was passed when a 1d array was expected. Please change the shape of y to (n_samples, ), for example using ravel().\n",
            "  y = column_or_1d(y, warn=True)\n",
            "/usr/local/lib/python3.6/dist-packages/sklearn/ensemble/_gb.py:1454: DataConversionWarning: A column-vector y was passed when a 1d array was expected. Please change the shape of y to (n_samples, ), for example using ravel().\n",
            "  y = column_or_1d(y, warn=True)\n",
            "/usr/local/lib/python3.6/dist-packages/sklearn/ensemble/_gb.py:1454: DataConversionWarning: A column-vector y was passed when a 1d array was expected. Please change the shape of y to (n_samples, ), for example using ravel().\n",
            "  y = column_or_1d(y, warn=True)\n",
            "/usr/local/lib/python3.6/dist-packages/sklearn/ensemble/_gb.py:1454: DataConversionWarning: A column-vector y was passed when a 1d array was expected. Please change the shape of y to (n_samples, ), for example using ravel().\n",
            "  y = column_or_1d(y, warn=True)\n",
            "/usr/local/lib/python3.6/dist-packages/sklearn/ensemble/_gb.py:1454: DataConversionWarning: A column-vector y was passed when a 1d array was expected. Please change the shape of y to (n_samples, ), for example using ravel().\n",
            "  y = column_or_1d(y, warn=True)\n",
            "/usr/local/lib/python3.6/dist-packages/sklearn/ensemble/_gb.py:1454: DataConversionWarning: A column-vector y was passed when a 1d array was expected. Please change the shape of y to (n_samples, ), for example using ravel().\n",
            "  y = column_or_1d(y, warn=True)\n",
            "/usr/local/lib/python3.6/dist-packages/sklearn/ensemble/_gb.py:1454: DataConversionWarning: A column-vector y was passed when a 1d array was expected. Please change the shape of y to (n_samples, ), for example using ravel().\n",
            "  y = column_or_1d(y, warn=True)\n"
          ],
          "name": "stderr"
        },
        {
          "output_type": "stream",
          "text": [
            "Best parameter combination: {'learning_rate': 0.1, 'n_estimators': 150} \n",
            "\n",
            "GradientBoostingRegressor(alpha=0.9, ccp_alpha=0.0, criterion='friedman_mse',\n",
            "                          init=None, learning_rate=0.1, loss='ls', max_depth=3,\n",
            "                          max_features=None, max_leaf_nodes=None,\n",
            "                          min_impurity_decrease=0.0, min_impurity_split=None,\n",
            "                          min_samples_leaf=1, min_samples_split=2,\n",
            "                          min_weight_fraction_leaf=0.0, n_estimators=150,\n",
            "                          n_iter_no_change=None, presort='deprecated',\n",
            "                          random_state=None, subsample=1.0, tol=0.0001,\n",
            "                          validation_fraction=0.1, verbose=0, warm_start=False) \n",
            "\n",
            "MSE: 0.5568508739164271\n",
            "RMSE: 0.7462244125706603\n",
            "R2: 0.9775514626854405\n"
          ],
          "name": "stdout"
        },
        {
          "output_type": "display_data",
          "data": {
            "image/png": "[encoded data removed]",
            "text/plain": [
              "<Figure size 432x288 with 1 Axes>"
            ]
          },
          "metadata": {
            "tags": [],
            "needs_background": "light"
          }
        }
      ]
    },
    {
      "cell_type": "markdown",
      "metadata": {
        "id": "NA60YOajGGPK"
      },
      "source": [
        "#### **Author**\r\n",
        "\r\n",
        "**[Sinothi Moyo](https://www.linkedin.com/in/phyllsmoyo/)**"
      ]
    },
    {
      "cell_type": "code",
      "metadata": {
        "id": "UAwxlLS9GELT"
      },
      "source": [
        ""
      ],
      "execution_count": 28,
      "outputs": []
    }
  ]
}