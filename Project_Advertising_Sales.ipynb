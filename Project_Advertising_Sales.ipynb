{
  "nbformat": 4,
  "nbformat_minor": 0,
  "metadata": {
    "colab": {
      "name": "Project_Advertising_Sales.ipynb",
      "provenance": [],
      "authorship_tag": "ABX9TyN9eM0abWq5P2UD1gWJPztn",
      "include_colab_link": true
    },
    "kernelspec": {
      "name": "python3",
      "display_name": "Python 3"
    }
  },
  "cells": [
    {
      "cell_type": "markdown",
      "metadata": {
        "id": "view-in-github",
        "colab_type": "text"
      },
      "source": [
        "<a href=\"https://colab.research.google.com/github/phyllsmoyo/Projects/blob/branch_1/Project_Advertising_Sales.ipynb\" target=\"_parent\"><img src=\"https://colab.research.google.com/assets/colab-badge.svg\" alt=\"Open In Colab\"/></a>"
      ]
    },
    {
      "cell_type": "markdown",
      "metadata": {
        "id": "mDS8U7eaGVzw"
      },
      "source": [
        "#### **Import Libraries**"
      ]
    },
    {
      "cell_type": "code",
      "metadata": {
        "id": "FH7bTBO5TZ4z"
      },
      "source": [
        "#Import libraries\r\n",
        "import pandas as pd\r\n",
        "import numpy as np"
      ],
      "execution_count": 5,
      "outputs": []
    },
    {
      "cell_type": "markdown",
      "metadata": {
        "id": "8SGFs4lSGc3F"
      },
      "source": [
        "#### **Upload the Dataset**"
      ]
    },
    {
      "cell_type": "code",
      "metadata": {
        "colab": {
          "base_uri": "https://localhost:8080/"
        },
        "id": "qjkzq2pLsGbu",
        "outputId": "07740a08-ad06-458f-a9f9-7a5c93d21a23"
      },
      "source": [
        "#Import the Dataset into a pandas DataFrame\r\n",
        "!wget 'https://github.com/phyllsmoyo/Projects/blob/branch_1/Advertising%20Budget%20and%20Sales.csv'\r\n",
        "df_data = pd.read_csv('/content/Advertising Budget and Sales.csv', index_col=0)"
      ],
      "execution_count": 22,
      "outputs": [
        {
          "output_type": "stream",
          "text": [
            "--2020-12-23 13:30:01--  https://github.com/phyllsmoyo/Projects/blob/branch_1/Advertising%20Budget%20and%20Sales.csv\n",
            "Resolving github.com (github.com)... 140.82.112.4\n",
            "Connecting to github.com (github.com)|140.82.112.4|:443... connected.\n",
            "HTTP request sent, awaiting response... 200 OK\n",
            "Length: unspecified [text/html]\n",
            "Saving to: ‘Advertising Budget and Sales.csv.3’\n",
            "\n",
            "Advertising Budget      [ <=>                ] 139.12K   754KB/s    in 0.2s    \n",
            "\n",
            "2020-12-23 13:30:02 (754 KB/s) - ‘Advertising Budget and Sales.csv.3’ saved [142454]\n",
            "\n"
          ],
          "name": "stdout"
        }
      ]
    },
    {
      "cell_type": "markdown",
      "metadata": {
        "id": "FWXlQSFZGnZi"
      },
      "source": [
        "#### **Data Preparation and Understanding**"
      ]
    },
    {
      "cell_type": "code",
      "metadata": {
        "colab": {
          "base_uri": "https://localhost:8080/",
          "height": 204
        },
        "id": "JX9qo2B4v7Gl",
        "outputId": "c6b7bc35-52c4-432f-a134-a462e4eae64c"
      },
      "source": [
        "#View the first 5 records\r\n",
        "df_data.head(5)"
      ],
      "execution_count": 11,
      "outputs": [
        {
          "output_type": "execute_result",
          "data": {
            "text/html": [
              "<div>\n",
              "<style scoped>\n",
              "    .dataframe tbody tr th:only-of-type {\n",
              "        vertical-align: middle;\n",
              "    }\n",
              "\n",
              "    .dataframe tbody tr th {\n",
              "        vertical-align: top;\n",
              "    }\n",
              "\n",
              "    .dataframe thead th {\n",
              "        text-align: right;\n",
              "    }\n",
              "</style>\n",
              "<table border=\"1\" class=\"dataframe\">\n",
              "  <thead>\n",
              "    <tr style=\"text-align: right;\">\n",
              "      <th></th>\n",
              "      <th>TV Ad Budget ($)</th>\n",
              "      <th>Radio Ad Budget ($)</th>\n",
              "      <th>Newspaper Ad Budget ($)</th>\n",
              "      <th>Sales ($)</th>\n",
              "    </tr>\n",
              "  </thead>\n",
              "  <tbody>\n",
              "    <tr>\n",
              "      <th>1</th>\n",
              "      <td>230.1</td>\n",
              "      <td>37.8</td>\n",
              "      <td>69.2</td>\n",
              "      <td>22.1</td>\n",
              "    </tr>\n",
              "    <tr>\n",
              "      <th>2</th>\n",
              "      <td>44.5</td>\n",
              "      <td>39.3</td>\n",
              "      <td>45.1</td>\n",
              "      <td>10.4</td>\n",
              "    </tr>\n",
              "    <tr>\n",
              "      <th>3</th>\n",
              "      <td>17.2</td>\n",
              "      <td>45.9</td>\n",
              "      <td>69.3</td>\n",
              "      <td>9.3</td>\n",
              "    </tr>\n",
              "    <tr>\n",
              "      <th>4</th>\n",
              "      <td>151.5</td>\n",
              "      <td>41.3</td>\n",
              "      <td>58.5</td>\n",
              "      <td>18.5</td>\n",
              "    </tr>\n",
              "    <tr>\n",
              "      <th>5</th>\n",
              "      <td>180.8</td>\n",
              "      <td>10.8</td>\n",
              "      <td>58.4</td>\n",
              "      <td>12.9</td>\n",
              "    </tr>\n",
              "  </tbody>\n",
              "</table>\n",
              "</div>"
            ],
            "text/plain": [
              "   TV Ad Budget ($)  Radio Ad Budget ($)  Newspaper Ad Budget ($)  Sales ($)\n",
              "1             230.1                 37.8                     69.2       22.1\n",
              "2              44.5                 39.3                     45.1       10.4\n",
              "3              17.2                 45.9                     69.3        9.3\n",
              "4             151.5                 41.3                     58.5       18.5\n",
              "5             180.8                 10.8                     58.4       12.9"
            ]
          },
          "metadata": {
            "tags": []
          },
          "execution_count": 11
        }
      ]
    },
    {
      "cell_type": "markdown",
      "metadata": {
        "id": "t96ygl6BwqGg"
      },
      "source": [
        "The dataset has threee features; TV Ads, Radio Ads and Newspaper Ads and the the target is Sales."
      ]
    },
    {
      "cell_type": "code",
      "metadata": {
        "colab": {
          "base_uri": "https://localhost:8080/"
        },
        "id": "I3UyqP9KwNyr",
        "outputId": "c0968d29-08b4-41bc-ce77-18d18ea9e004"
      },
      "source": [
        "#View the size of the dataset\r\n",
        "df_data.shape"
      ],
      "execution_count": 23,
      "outputs": [
        {
          "output_type": "execute_result",
          "data": {
            "text/plain": [
              "(200, 4)"
            ]
          },
          "metadata": {
            "tags": []
          },
          "execution_count": 23
        }
      ]
    },
    {
      "cell_type": "code",
      "metadata": {
        "colab": {
          "base_uri": "https://localhost:8080/",
          "height": 359
        },
        "id": "JaIh_DlW6l0f",
        "outputId": "418b282b-4c15-4912-9e21-b633db6b7fff"
      },
      "source": [
        "#Understand the data by viewing some basic statistical details\r\n",
        "perc =[.20, .40, .60, .80]\r\n",
        "df_data.describe(percentiles=perc)"
      ],
      "execution_count": 70,
      "outputs": [
        {
          "output_type": "execute_result",
          "data": {
            "text/html": [
              "<div>\n",
              "<style scoped>\n",
              "    .dataframe tbody tr th:only-of-type {\n",
              "        vertical-align: middle;\n",
              "    }\n",
              "\n",
              "    .dataframe tbody tr th {\n",
              "        vertical-align: top;\n",
              "    }\n",
              "\n",
              "    .dataframe thead th {\n",
              "        text-align: right;\n",
              "    }\n",
              "</style>\n",
              "<table border=\"1\" class=\"dataframe\">\n",
              "  <thead>\n",
              "    <tr style=\"text-align: right;\">\n",
              "      <th></th>\n",
              "      <th>TV Ad Budget ($)</th>\n",
              "      <th>Radio Ad Budget ($)</th>\n",
              "      <th>Newspaper Ad Budget ($)</th>\n",
              "      <th>Sales ($)</th>\n",
              "    </tr>\n",
              "  </thead>\n",
              "  <tbody>\n",
              "    <tr>\n",
              "      <th>count</th>\n",
              "      <td>200.000000</td>\n",
              "      <td>200.000000</td>\n",
              "      <td>200.000000</td>\n",
              "      <td>200.000000</td>\n",
              "    </tr>\n",
              "    <tr>\n",
              "      <th>mean</th>\n",
              "      <td>147.042500</td>\n",
              "      <td>23.264000</td>\n",
              "      <td>30.554000</td>\n",
              "      <td>14.022500</td>\n",
              "    </tr>\n",
              "    <tr>\n",
              "      <th>std</th>\n",
              "      <td>85.854236</td>\n",
              "      <td>14.846809</td>\n",
              "      <td>21.778621</td>\n",
              "      <td>5.217457</td>\n",
              "    </tr>\n",
              "    <tr>\n",
              "      <th>min</th>\n",
              "      <td>0.700000</td>\n",
              "      <td>0.000000</td>\n",
              "      <td>0.300000</td>\n",
              "      <td>1.600000</td>\n",
              "    </tr>\n",
              "    <tr>\n",
              "      <th>20%</th>\n",
              "      <td>59.180000</td>\n",
              "      <td>7.680000</td>\n",
              "      <td>9.380000</td>\n",
              "      <td>9.700000</td>\n",
              "    </tr>\n",
              "    <tr>\n",
              "      <th>40%</th>\n",
              "      <td>119.000000</td>\n",
              "      <td>17.120000</td>\n",
              "      <td>21.320000</td>\n",
              "      <td>11.800000</td>\n",
              "    </tr>\n",
              "    <tr>\n",
              "      <th>50%</th>\n",
              "      <td>149.750000</td>\n",
              "      <td>22.900000</td>\n",
              "      <td>25.750000</td>\n",
              "      <td>12.900000</td>\n",
              "    </tr>\n",
              "    <tr>\n",
              "      <th>60%</th>\n",
              "      <td>186.060000</td>\n",
              "      <td>27.860000</td>\n",
              "      <td>32.700000</td>\n",
              "      <td>14.800000</td>\n",
              "    </tr>\n",
              "    <tr>\n",
              "      <th>80%</th>\n",
              "      <td>228.540000</td>\n",
              "      <td>38.920000</td>\n",
              "      <td>49.640000</td>\n",
              "      <td>18.920000</td>\n",
              "    </tr>\n",
              "    <tr>\n",
              "      <th>max</th>\n",
              "      <td>296.400000</td>\n",
              "      <td>49.600000</td>\n",
              "      <td>114.000000</td>\n",
              "      <td>27.000000</td>\n",
              "    </tr>\n",
              "  </tbody>\n",
              "</table>\n",
              "</div>"
            ],
            "text/plain": [
              "       TV Ad Budget ($)  ...   Sales ($)\n",
              "count        200.000000  ...  200.000000\n",
              "mean         147.042500  ...   14.022500\n",
              "std           85.854236  ...    5.217457\n",
              "min            0.700000  ...    1.600000\n",
              "20%           59.180000  ...    9.700000\n",
              "40%          119.000000  ...   11.800000\n",
              "50%          149.750000  ...   12.900000\n",
              "60%          186.060000  ...   14.800000\n",
              "80%          228.540000  ...   18.920000\n",
              "max          296.400000  ...   27.000000\n",
              "\n",
              "[10 rows x 4 columns]"
            ]
          },
          "metadata": {
            "tags": []
          },
          "execution_count": 70
        }
      ]
    },
    {
      "cell_type": "code",
      "metadata": {
        "colab": {
          "base_uri": "https://localhost:8080/"
        },
        "id": "gS8eZ-nb69XQ",
        "outputId": "cb29bbd8-1af2-4b6c-99f8-4fc997c0a0ad"
      },
      "source": [
        "#Check if the dataset contains any null values.\r\n",
        "df_data.isnull().any()"
      ],
      "execution_count": 67,
      "outputs": [
        {
          "output_type": "execute_result",
          "data": {
            "text/plain": [
              "TV Ad Budget ($)           False\n",
              "Radio Ad Budget ($)        False\n",
              "Newspaper Ad Budget ($)    False\n",
              "Sales ($)                  False\n",
              "dtype: bool"
            ]
          },
          "metadata": {
            "tags": []
          },
          "execution_count": 67
        }
      ]
    },
    {
      "cell_type": "markdown",
      "metadata": {
        "id": "btux1ISzw8Wy"
      },
      "source": [
        "The Dataset does not have any null values"
      ]
    },
    {
      "cell_type": "code",
      "metadata": {
        "colab": {
          "base_uri": "https://localhost:8080/"
        },
        "id": "2FUqYkY8wiBj",
        "outputId": "8d43e5d5-fc2f-4922-b4af-c863fb92a1b0"
      },
      "source": [
        "#View the columns of the dataset\r\n",
        "df_data.columns"
      ],
      "execution_count": 15,
      "outputs": [
        {
          "output_type": "execute_result",
          "data": {
            "text/plain": [
              "Index(['TV Ad Budget ($)', 'Radio Ad Budget ($)', 'Newspaper Ad Budget ($)',\n",
              "       'Sales ($)'],\n",
              "      dtype='object')"
            ]
          },
          "metadata": {
            "tags": []
          },
          "execution_count": 15
        }
      ]
    },
    {
      "cell_type": "code",
      "metadata": {
        "colab": {
          "base_uri": "https://localhost:8080/",
          "height": 204
        },
        "id": "xSre02FexQIS",
        "outputId": "a17a1bb7-72bc-45d3-dccc-8a1d237c8375"
      },
      "source": [
        "#Create a feature object from the dataset\r\n",
        "X = df_data[['TV Ad Budget ($)', 'Radio Ad Budget ($)', 'Newspaper Ad Budget ($)']]\r\n",
        "X.head()"
      ],
      "execution_count": 25,
      "outputs": [
        {
          "output_type": "execute_result",
          "data": {
            "text/html": [
              "<div>\n",
              "<style scoped>\n",
              "    .dataframe tbody tr th:only-of-type {\n",
              "        vertical-align: middle;\n",
              "    }\n",
              "\n",
              "    .dataframe tbody tr th {\n",
              "        vertical-align: top;\n",
              "    }\n",
              "\n",
              "    .dataframe thead th {\n",
              "        text-align: right;\n",
              "    }\n",
              "</style>\n",
              "<table border=\"1\" class=\"dataframe\">\n",
              "  <thead>\n",
              "    <tr style=\"text-align: right;\">\n",
              "      <th></th>\n",
              "      <th>TV Ad Budget ($)</th>\n",
              "      <th>Radio Ad Budget ($)</th>\n",
              "      <th>Newspaper Ad Budget ($)</th>\n",
              "    </tr>\n",
              "  </thead>\n",
              "  <tbody>\n",
              "    <tr>\n",
              "      <th>1</th>\n",
              "      <td>230.1</td>\n",
              "      <td>37.8</td>\n",
              "      <td>69.2</td>\n",
              "    </tr>\n",
              "    <tr>\n",
              "      <th>2</th>\n",
              "      <td>44.5</td>\n",
              "      <td>39.3</td>\n",
              "      <td>45.1</td>\n",
              "    </tr>\n",
              "    <tr>\n",
              "      <th>3</th>\n",
              "      <td>17.2</td>\n",
              "      <td>45.9</td>\n",
              "      <td>69.3</td>\n",
              "    </tr>\n",
              "    <tr>\n",
              "      <th>4</th>\n",
              "      <td>151.5</td>\n",
              "      <td>41.3</td>\n",
              "      <td>58.5</td>\n",
              "    </tr>\n",
              "    <tr>\n",
              "      <th>5</th>\n",
              "      <td>180.8</td>\n",
              "      <td>10.8</td>\n",
              "      <td>58.4</td>\n",
              "    </tr>\n",
              "  </tbody>\n",
              "</table>\n",
              "</div>"
            ],
            "text/plain": [
              "   TV Ad Budget ($)  Radio Ad Budget ($)  Newspaper Ad Budget ($)\n",
              "1             230.1                 37.8                     69.2\n",
              "2              44.5                 39.3                     45.1\n",
              "3              17.2                 45.9                     69.3\n",
              "4             151.5                 41.3                     58.5\n",
              "5             180.8                 10.8                     58.4"
            ]
          },
          "metadata": {
            "tags": []
          },
          "execution_count": 25
        }
      ]
    },
    {
      "cell_type": "code",
      "metadata": {
        "colab": {
          "base_uri": "https://localhost:8080/",
          "height": 204
        },
        "id": "PVLNN2-_zUAE",
        "outputId": "d538e850-2f2f-4886-cb55-3a0f528c899c"
      },
      "source": [
        "y = df_data[['Sales ($)']]\r\n",
        "y.head()"
      ],
      "execution_count": 26,
      "outputs": [
        {
          "output_type": "execute_result",
          "data": {
            "text/html": [
              "<div>\n",
              "<style scoped>\n",
              "    .dataframe tbody tr th:only-of-type {\n",
              "        vertical-align: middle;\n",
              "    }\n",
              "\n",
              "    .dataframe tbody tr th {\n",
              "        vertical-align: top;\n",
              "    }\n",
              "\n",
              "    .dataframe thead th {\n",
              "        text-align: right;\n",
              "    }\n",
              "</style>\n",
              "<table border=\"1\" class=\"dataframe\">\n",
              "  <thead>\n",
              "    <tr style=\"text-align: right;\">\n",
              "      <th></th>\n",
              "      <th>Sales ($)</th>\n",
              "    </tr>\n",
              "  </thead>\n",
              "  <tbody>\n",
              "    <tr>\n",
              "      <th>1</th>\n",
              "      <td>22.1</td>\n",
              "    </tr>\n",
              "    <tr>\n",
              "      <th>2</th>\n",
              "      <td>10.4</td>\n",
              "    </tr>\n",
              "    <tr>\n",
              "      <th>3</th>\n",
              "      <td>9.3</td>\n",
              "    </tr>\n",
              "    <tr>\n",
              "      <th>4</th>\n",
              "      <td>18.5</td>\n",
              "    </tr>\n",
              "    <tr>\n",
              "      <th>5</th>\n",
              "      <td>12.9</td>\n",
              "    </tr>\n",
              "  </tbody>\n",
              "</table>\n",
              "</div>"
            ],
            "text/plain": [
              "   Sales ($)\n",
              "1       22.1\n",
              "2       10.4\n",
              "3        9.3\n",
              "4       18.5\n",
              "5       12.9"
            ]
          },
          "metadata": {
            "tags": []
          },
          "execution_count": 26
        }
      ]
    },
    {
      "cell_type": "code",
      "metadata": {
        "colab": {
          "base_uri": "https://localhost:8080/"
        },
        "id": "Z3jFyfPuzcX3",
        "outputId": "d2fe676a-f679-4431-b17c-68977ff0cf15"
      },
      "source": [
        "print(X.shape, y.shape, sep='\\n')"
      ],
      "execution_count": 31,
      "outputs": [
        {
          "output_type": "stream",
          "text": [
            "(200, 3)\n",
            "(200, 1)\n"
          ],
          "name": "stdout"
        }
      ]
    },
    {
      "cell_type": "code",
      "metadata": {
        "id": "psNeElExzkJU"
      },
      "source": [
        "#Split Test and Training sets\r\n",
        "from sklearn.model_selection import train_test_split\r\n",
        "\r\n",
        "X_train, X_test, y_train, y_test = train_test_split(X, y, test_size=0.25, random_state=4)"
      ],
      "execution_count": 33,
      "outputs": []
    },
    {
      "cell_type": "markdown",
      "metadata": {
        "id": "ROYQ_9Hn08Zy"
      },
      "source": [
        "By default the train_test_split will split 75% training and 25% test data."
      ]
    },
    {
      "cell_type": "code",
      "metadata": {
        "colab": {
          "base_uri": "https://localhost:8080/"
        },
        "id": "i0uFFcEn0erN",
        "outputId": "c893f11b-1faf-4a80-db5c-08d6ad129caf"
      },
      "source": [
        "#view the shape of the data\r\n",
        "print(X_train.shape, X_test.shape, y_train.shape, y_test.shape, sep='\\n')"
      ],
      "execution_count": 34,
      "outputs": [
        {
          "output_type": "stream",
          "text": [
            "(150, 3)\n",
            "(50, 3)\n",
            "(150, 1)\n",
            "(50, 1)\n"
          ],
          "name": "stdout"
        }
      ]
    },
    {
      "cell_type": "markdown",
      "metadata": {
        "id": "TETxGN6VG0GJ"
      },
      "source": [
        "#### **Modeling Training**"
      ]
    },
    {
      "cell_type": "code",
      "metadata": {
        "id": "DfcryBa-1Ru3"
      },
      "source": [
        "#Import the Linear Regression Model\r\n",
        "from sklearn.linear_model import LinearRegression"
      ],
      "execution_count": 36,
      "outputs": []
    },
    {
      "cell_type": "code",
      "metadata": {
        "id": "_9SRmyHK25ME"
      },
      "source": [
        "#Initiate the instance of the Linear Regression Model\r\n",
        "normalize = False\r\n",
        "linreg = LinearRegression(normalize=normalize)"
      ],
      "execution_count": 53,
      "outputs": []
    },
    {
      "cell_type": "code",
      "metadata": {
        "colab": {
          "base_uri": "https://localhost:8080/"
        },
        "id": "ii49_trk3Xeo",
        "outputId": "b9f7740e-cb5d-4b35-a18e-d83f9a204803"
      },
      "source": [
        "#Train the Model\r\n",
        "linreg.fit(X_train, y_train)"
      ],
      "execution_count": 54,
      "outputs": [
        {
          "output_type": "execute_result",
          "data": {
            "text/plain": [
              "LinearRegression(copy_X=True, fit_intercept=True, n_jobs=None, normalize=False)"
            ]
          },
          "metadata": {
            "tags": []
          },
          "execution_count": 54
        }
      ]
    },
    {
      "cell_type": "code",
      "metadata": {
        "colab": {
          "base_uri": "https://localhost:8080/"
        },
        "id": "HtNYSOv83nkY",
        "outputId": "c4586796-29fa-44f1-a581-5e1cfe2aa72e"
      },
      "source": [
        "#Print the intercept and the coefficients\r\n",
        "print('The Intercept is: {}'.format(linreg.intercept_))\r\n",
        "print('The Coefficients are: {}'.format(linreg.coef_))"
      ],
      "execution_count": 55,
      "outputs": [
        {
          "output_type": "stream",
          "text": [
            "The Intercept is: [3.09401086]\n",
            "The Coefficients are: [[0.04585077 0.17764264 0.00247669]]\n"
          ],
          "name": "stdout"
        }
      ]
    },
    {
      "cell_type": "code",
      "metadata": {
        "colab": {
          "base_uri": "https://localhost:8080/"
        },
        "id": "viVUK56A4hF3",
        "outputId": "6c572411-ce16-4fcf-883c-babce2d0be50"
      },
      "source": [
        "#Prediction\r\n",
        "y_pred = linreg.predict(X_test)\r\n",
        "y_pred[0:5]"
      ],
      "execution_count": 91,
      "outputs": [
        {
          "output_type": "execute_result",
          "data": {
            "text/plain": [
              "array([[17.21150199],\n",
              "       [16.81441379],\n",
              "       [21.90735108],\n",
              "       [24.58034087],\n",
              "       [12.22742501]])"
            ]
          },
          "metadata": {
            "tags": []
          },
          "execution_count": 91
        }
      ]
    },
    {
      "cell_type": "markdown",
      "metadata": {
        "id": "ZW_30pemG_AW"
      },
      "source": [
        "#### **Model Evaluation**"
      ]
    },
    {
      "cell_type": "code",
      "metadata": {
        "id": "zvzs0-Ik5IRT"
      },
      "source": [
        "#Test the Model's accuracy\r\n",
        "#import the library\r\n",
        "from sklearn import metrics"
      ],
      "execution_count": 92,
      "outputs": []
    },
    {
      "cell_type": "code",
      "metadata": {
        "id": "fyW3MPx85YD6"
      },
      "source": [
        "#Calculate the Metrics\r\n",
        "#Mean Squared Error\r\n",
        "MSE = metrics.mean_squared_error(y_test, y_pred)\r\n",
        "#Root Mean Squared Error\r\n",
        "RMSE = metrics.mean_squared_error(y_test, y_pred, squared=False)\r\n",
        "#Mean Absolute Error\r\n",
        "MAE = metrics.mean_absolute_error(y_test, y_pred)\r\n",
        "#R-Squared\r\n",
        "R2 = metrics.r2_score(y_test, y_pred)"
      ],
      "execution_count": 102,
      "outputs": []
    },
    {
      "cell_type": "code",
      "metadata": {
        "colab": {
          "base_uri": "https://localhost:8080/"
        },
        "id": "tWB0RLca6WQu",
        "outputId": "0cd28878-dbd6-432f-c95b-786f14577a78"
      },
      "source": [
        "print('Mean Squared Error: {}'.format(MSE))\r\n",
        "print('Root Mean Squared Error: {}'.format(RMSE))\r\n",
        "print('Mean Absolute Error: {}'.format(MAE))\r\n",
        "print('R Squared: {}'.format(R2))"
      ],
      "execution_count": 103,
      "outputs": [
        {
          "output_type": "stream",
          "text": [
            "Mean Squared Error: 2.090641627700804\n",
            "Root Mean Squared Error: 1.4459051240315888\n",
            "Mean Absolute Error: 1.1532385280495925\n",
            "R Squared: 0.9157191830180074\n"
          ],
          "name": "stdout"
        }
      ]
    },
    {
      "cell_type": "markdown",
      "metadata": {
        "id": "WfW3HVFtEl1c"
      },
      "source": [
        "**R-squared** is a statistical measure of how close the data are to the fitted regression line. It is also known as the coefficient of determination, or the coefficient of multiple determination for multiple regression.\r\n",
        "\r\n",
        "Based on R squared this means that our model is **91.572%** accurate.\r\n",
        "\r\n",
        "Also the other metrics are small meaning that the model is doing well in predicting using unseen data."
      ]
    },
    {
      "cell_type": "markdown",
      "metadata": {
        "id": "NA60YOajGGPK"
      },
      "source": [
        "#### **Author**\r\n",
        "\r\n",
        "**[Sinothi Moyo](https://www.linkedin.com/in/phyllsmoyo/)**"
      ]
    },
    {
      "cell_type": "code",
      "metadata": {
        "id": "UAwxlLS9GELT"
      },
      "source": [
        ""
      ],
      "execution_count": 104,
      "outputs": []
    }
  ]
}